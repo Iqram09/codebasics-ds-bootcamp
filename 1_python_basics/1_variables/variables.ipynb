{
 "cells": [
  {
   "cell_type": "code",
   "execution_count": null,
   "id": "144862a3-b8b9-4bd0-8261-13d955e58520",
   "metadata": {},
   "outputs": [],
   "source": [
    "#Variables Introduction: String, Numbers, Boolean"
   ]
  },
  {
   "cell_type": "code",
   "execution_count": null,
   "id": "54049014-1ccc-41d7-9d57-cf1ccfae7a0e",
   "metadata": {},
   "outputs": [],
   "source": [
    "#  Variables are containers that store some type of data. For example soda can is a container that contains soda"
   ]
  },
  {
   "cell_type": "code",
   "execution_count": 2,
   "id": "d58f70f1-e972-46f6-8a58-cb35ee6e065a",
   "metadata": {},
   "outputs": [
    {
     "data": {
      "text/plain": [
       "'soda'"
      ]
     },
     "execution_count": 2,
     "metadata": {},
     "output_type": "execute_result"
    }
   ],
   "source": [
    "can = \"soda\"\n",
    "can"
   ]
  },
  {
   "cell_type": "code",
   "execution_count": 3,
   "id": "986a8938-674e-44d6-b8ff-3d4f48be1b71",
   "metadata": {},
   "outputs": [
    {
     "name": "stdout",
     "output_type": "stream",
     "text": [
      "soda\n"
     ]
    }
   ],
   "source": [
    "print(can)"
   ]
  },
  {
   "cell_type": "code",
   "execution_count": 4,
   "id": "c50e4d96-15a8-4c97-a186-0f8e2a64cedf",
   "metadata": {},
   "outputs": [
    {
     "data": {
      "text/plain": [
       "'beans'"
      ]
     },
     "execution_count": 4,
     "metadata": {},
     "output_type": "execute_result"
    }
   ],
   "source": [
    "can = \"beans\"\n",
    "can"
   ]
  },
  {
   "cell_type": "code",
   "execution_count": 5,
   "id": "d0beccaf-e603-41ec-8d93-f715d2ced231",
   "metadata": {},
   "outputs": [
    {
     "data": {
      "text/plain": [
       "str"
      ]
     },
     "execution_count": 5,
     "metadata": {},
     "output_type": "execute_result"
    }
   ],
   "source": [
    "type(can)"
   ]
  },
  {
   "cell_type": "code",
   "execution_count": 6,
   "id": "2363de95-c258-4f3b-95d0-c8ab65e1f00f",
   "metadata": {},
   "outputs": [
    {
     "data": {
      "text/plain": [
       "100"
      ]
     },
     "execution_count": 6,
     "metadata": {},
     "output_type": "execute_result"
    }
   ],
   "source": [
    "pizza = 100\n",
    "pizza"
   ]
  },
  {
   "cell_type": "code",
   "execution_count": 7,
   "id": "8d0b8431-77b8-4d90-88b2-cd840be91e83",
   "metadata": {},
   "outputs": [
    {
     "data": {
      "text/plain": [
       "int"
      ]
     },
     "execution_count": 7,
     "metadata": {},
     "output_type": "execute_result"
    }
   ],
   "source": [
    "type(pizza)"
   ]
  },
  {
   "cell_type": "code",
   "execution_count": 10,
   "id": "53621720-d1f6-4ebb-8c7b-1e39b9bd3a87",
   "metadata": {},
   "outputs": [
    {
     "data": {
      "text/plain": [
       "220.5"
      ]
     },
     "execution_count": 10,
     "metadata": {},
     "output_type": "execute_result"
    }
   ],
   "source": [
    "samosa=20.5\n",
    "ice_cream=100\n",
    "total = pizza + samosa + ice_cream\n",
    "total"
   ]
  },
  {
   "cell_type": "code",
   "execution_count": 11,
   "id": "03601119-c265-4df8-a28b-2949132f2aa6",
   "metadata": {},
   "outputs": [
    {
     "data": {
      "text/plain": [
       "float"
      ]
     },
     "execution_count": 11,
     "metadata": {},
     "output_type": "execute_result"
    }
   ],
   "source": [
    "type(total)"
   ]
  },
  {
   "cell_type": "code",
   "execution_count": 12,
   "id": "1c6050c3-a7b2-43cd-95b5-9b2b09d553e7",
   "metadata": {},
   "outputs": [
    {
     "data": {
      "text/plain": [
       "True"
      ]
     },
     "execution_count": 12,
     "metadata": {},
     "output_type": "execute_result"
    }
   ],
   "source": [
    "above_thresold = total > 200\n",
    "above_thresold"
   ]
  },
  {
   "cell_type": "code",
   "execution_count": 13,
   "id": "3513b26f-0350-4a2a-acbc-d89364938f70",
   "metadata": {},
   "outputs": [
    {
     "data": {
      "text/plain": [
       "bool"
      ]
     },
     "execution_count": 13,
     "metadata": {},
     "output_type": "execute_result"
    }
   ],
   "source": [
    "type(above_thresold)"
   ]
  },
  {
   "cell_type": "code",
   "execution_count": null,
   "id": "9abfacda-d79c-4303-86dd-a214ab4a6e2c",
   "metadata": {},
   "outputs": [],
   "source": [
    "#Integer is a whole number with no decimal point. e.g. 34, 12, 500\n",
    "\n",
    "#Float is a number with decimal point. e.g. 1.34, 0.45, 100.5\n",
    "\n",
    "#String data types store text information\n",
    "\n",
    "#Boolean type is used to store true or false value"
   ]
  },
  {
   "cell_type": "code",
   "execution_count": null,
   "id": "0769dad4-ad54-4fca-bccd-dbc32d97ff46",
   "metadata": {},
   "outputs": [],
   "source": [
    "### Everything is an Object in Python"
   ]
  },
  {
   "cell_type": "code",
   "execution_count": 14,
   "id": "44bd3eca-aeeb-4187-89af-c1a43b1d7184",
   "metadata": {},
   "outputs": [
    {
     "data": {
      "text/plain": [
       "'jalebi'"
      ]
     },
     "execution_count": 14,
     "metadata": {},
     "output_type": "execute_result"
    }
   ],
   "source": [
    "foo = 'jalebi'\n",
    "foo"
   ]
  },
  {
   "cell_type": "code",
   "execution_count": 15,
   "id": "f4204b32-7cc8-4452-940c-87f2639b07b8",
   "metadata": {},
   "outputs": [
    {
     "data": {
      "text/plain": [
       "'jalebi'"
      ]
     },
     "execution_count": 15,
     "metadata": {},
     "output_type": "execute_result"
    }
   ],
   "source": [
    "bar = foo\n",
    "bar"
   ]
  },
  {
   "cell_type": "code",
   "execution_count": 18,
   "id": "01e09fdc-5ef1-4047-90bc-e47caafcd175",
   "metadata": {},
   "outputs": [
    {
     "data": {
      "text/plain": [
       "2128715274288"
      ]
     },
     "execution_count": 18,
     "metadata": {},
     "output_type": "execute_result"
    }
   ],
   "source": [
    "id(foo)\n"
   ]
  },
  {
   "cell_type": "code",
   "execution_count": 19,
   "id": "d19372af-9efd-4694-85ec-65b23e4a45b3",
   "metadata": {},
   "outputs": [
    {
     "data": {
      "text/plain": [
       "2128715274288"
      ]
     },
     "execution_count": 19,
     "metadata": {},
     "output_type": "execute_result"
    }
   ],
   "source": [
    "id(bar)\n"
   ]
  },
  {
   "cell_type": "code",
   "execution_count": 20,
   "id": "8d37cc17-76e3-4689-b789-03fb436154c5",
   "metadata": {},
   "outputs": [
    {
     "data": {
      "text/plain": [
       "'samosa'"
      ]
     },
     "execution_count": 20,
     "metadata": {},
     "output_type": "execute_result"
    }
   ],
   "source": [
    "bar = 'samosa'\n",
    "bar"
   ]
  },
  {
   "cell_type": "code",
   "execution_count": 21,
   "id": "ea23bc4a-227b-42b8-bc89-456ad9e7fa9e",
   "metadata": {},
   "outputs": [
    {
     "data": {
      "text/plain": [
       "2128715278800"
      ]
     },
     "execution_count": 21,
     "metadata": {},
     "output_type": "execute_result"
    }
   ],
   "source": [
    "id(bar)"
   ]
  },
  {
   "cell_type": "code",
   "execution_count": 22,
   "id": "eb0138b4-b444-47a9-809b-bfc72f21fec8",
   "metadata": {},
   "outputs": [
    {
     "data": {
      "text/plain": [
       "'jalebi'"
      ]
     },
     "execution_count": 22,
     "metadata": {},
     "output_type": "execute_result"
    }
   ],
   "source": [
    "foo"
   ]
  }
 ],
 "metadata": {
  "kernelspec": {
   "display_name": "Python 3 (ipykernel)",
   "language": "python",
   "name": "python3"
  },
  "language_info": {
   "codemirror_mode": {
    "name": "ipython",
    "version": 3
   },
   "file_extension": ".py",
   "mimetype": "text/x-python",
   "name": "python",
   "nbconvert_exporter": "python",
   "pygments_lexer": "ipython3",
   "version": "3.12.6"
  }
 },
 "nbformat": 4,
 "nbformat_minor": 5
}
