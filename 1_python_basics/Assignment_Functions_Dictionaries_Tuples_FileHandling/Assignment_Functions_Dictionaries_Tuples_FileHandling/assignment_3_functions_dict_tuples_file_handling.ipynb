{
 "cells": [
  {
   "cell_type": "markdown",
   "metadata": {},
   "source": [
    "<h2 align=\"center\" style=\"color:blue\">Codebasics Python Course: Exercise - Functions, Dict, Tuples, File Handling</h2>"
   ]
  },
  {
   "cell_type": "markdown",
   "metadata": {},
   "source": [
    "Imagine you run a loyalty program where customers earn rewards based on the total amount they have spent. The rewards levels are defined based on the total purchase amount. Based on this scenario, complete the following tasks"
   ]
  },
  {
   "cell_type": "markdown",
   "metadata": {},
   "source": [
    "### Task 1\n",
    "\n",
    "You are given a file called ```customers.txt``` that contains the name of the customer and total amount they spent. Read this file line by line and save the customer name and total amount in a dictionary.\n",
    "\n",
    "For example, customers.txt file will content the data in the following format,\n",
    "```\n",
    "Srinivas,120\n",
    "John,250\n",
    "Maria,150\n",
    "Smith,510\n",
    "Anjali,45\n",
    "```\n",
    "\n",
    "You will read this and build a dictionary like this,\n",
    "```\n",
    "{\n",
    "    \"Srinivas\": 120,\n",
    "    \"John\": 250,\n",
    "    \"Maria\": 150,\n",
    "    \"Smith\": 510,\n",
    "    \"Anjali\": 45\n",
    "}\n",
    "```"
   ]
  },
  {
   "cell_type": "code",
   "execution_count": 2,
   "metadata": {},
   "outputs": [
    {
     "name": "stdout",
     "output_type": "stream",
     "text": [
      "{'Srinivas': 120, 'John': 250, 'Maria': 150, 'Smith': 510, 'Anjali': 45}\n"
     ]
    }
   ],
   "source": [
    "# write your code here\n",
    "customer_data = {}\n",
    "\n",
    "\n",
    "with open(\"customers.txt\", \"w\") as f:\n",
    "    f.write(\"Srinivas,120\\nJohn,250 \\nMaria,150\\nSmith,510\\nAnjali,45\")\n",
    "    #print(f)\n",
    "with open(\"customers.txt\", \"r\") as f:\n",
    "    for line in f:\n",
    "        name , amount =   line.strip().split(\",\")\n",
    "        customer_data[name] = int(amount)\n",
    "\n",
    "print(customer_data)"
   ]
  },
  {
   "cell_type": "markdown",
   "metadata": {},
   "source": [
    "### Task 2\n",
    "\n",
    "The rewards levels are defined below based on the total purchase amount. Using this define a function called calculate_rewards that takes total as input and returns the reward.\n",
    "\n",
    "```\n",
    "1. Bronze: Total purchases $100-$199\n",
    "1. Silver: Total purchases $200-$499\n",
    "1. Gold: Total purchases $500+\n",
    "```"
   ]
  },
  {
   "cell_type": "code",
   "execution_count": 3,
   "metadata": {},
   "outputs": [
    {
     "name": "stdout",
     "output_type": "stream",
     "text": [
      "Bronze\n",
      "Silver\n",
      "Gold\n",
      "No reward\n"
     ]
    }
   ],
   "source": [
    "# write your code here\n",
    "def calculate_rewards(total):\n",
    "    if 100<= total <= 199:\n",
    "        return \"Bronze\"\n",
    "    elif 200 <= total <= 499:\n",
    "        return \"Silver\"\n",
    "    elif total >= 500:\n",
    "        return \"Gold\"\n",
    "    else:\n",
    "        return \"No reward\"\n",
    "\n",
    "print(calculate_rewards(150))  # Output: Bronze\n",
    "print(calculate_rewards(300))  # Output: Silver\n",
    "print(calculate_rewards(600))  # Output: Gold\n",
    "print(calculate_rewards(50))   # Output: No reward"
   ]
  },
  {
   "cell_type": "markdown",
   "metadata": {},
   "source": [
    "### Task 3\n",
    "\n",
    "Now for each of the customers in our customers_dict, calculate the rewards and build a customers_summary dictionary that looks like the following, (key is the name of the customer and the value is a tuple containing total amount and rewards level)\n",
    "\n",
    "```\n",
    "{\n",
    "    'Srinivas': (120, 'Bronze'),\n",
    "    'John': (250, 'Silver'),\n",
    "    'Maria': (150, 'Bronze'),\n",
    "    'Smith': (510, 'Gold'),\n",
    "    'Anjali': (45, 'None')\n",
    "}\n",
    "```"
   ]
  },
  {
   "cell_type": "code",
   "execution_count": 7,
   "metadata": {},
   "outputs": [
    {
     "name": "stdout",
     "output_type": "stream",
     "text": [
      "{'Srinivas': (120, 'Bronze'), 'John': (250, 'Silver'), 'Maria': (150, 'Bronze'), 'Smith': (510, 'Gold'), 'Anjali': (45, 'No reward')}\n"
     ]
    }
   ],
   "source": [
    "# write your code here\n",
    "def calculate_rewards(total):\n",
    "    if 100<= total <= 199:\n",
    "        return \"Bronze\"\n",
    "    elif 200 <= total <= 499:\n",
    "        return \"Silver\"\n",
    "    elif total >= 500:\n",
    "        return \"Gold\"\n",
    "    else:\n",
    "        return \"No reward\"\n",
    "\n",
    "customer_data = {\n",
    "    'Srinivas': 120,\n",
    "    'John': 250,\n",
    "    'Maria': 150,\n",
    "    'Smith': 510,\n",
    "    'Anjali': 45\n",
    "}\n",
    "\n",
    "customers_summary = {}\n",
    "\n",
    "for name, total in customer_data.items():\n",
    "\n",
    "    reward = calculate_rewards(total)\n",
    "\n",
    "    customers_summary[name] = (total, reward)\n",
    "\n",
    "\n",
    "print(customers_summary)"
   ]
  },
  {
   "cell_type": "markdown",
   "metadata": {},
   "source": [
    "### Task 4\n",
    "\n",
    "Now stitch all of the above code together and create a function that takes file name as input and returns the customer_summary dictionary.\n",
    "\n",
    "```\n",
    "def process_customer_data(file_name):\n",
    "    # return customer_summary dict\n",
    "```"
   ]
  },
  {
   "cell_type": "code",
   "execution_count": 11,
   "metadata": {},
   "outputs": [
    {
     "name": "stdout",
     "output_type": "stream",
     "text": [
      "{'Srinivas': (120, 'Bronze'), 'John': (250, 'Silver'), 'Maria': (150, 'Bronze'), 'Smith': (510, 'Gold'), 'Anjali': (45, 'None')}\n"
     ]
    }
   ],
   "source": [
    "# write your code here\n",
    "def calculate_rewards(total):\n",
    "    \"\"\"Calculate the reward level based on the total purchase amount.\"\"\"\n",
    "    if 100 <= total <= 199:\n",
    "        return \"Bronze\"\n",
    "    elif 200 <= total <= 499:\n",
    "        return \"Silver\"\n",
    "    elif total >= 500:\n",
    "        return \"Gold\"\n",
    "    else:\n",
    "        return \"None\"  # No reward for amounts less than 100\n",
    "\n",
    "def process_customer_data(filename):\n",
    "    # Initialize an empty dictionary for storing customer data\n",
    "    customers_dict = {}\n",
    "\n",
    "    # Read the file and populate the customers_dict\n",
    "    with open(filename, \"r\") as f:\n",
    "        for line in f:\n",
    "            # Split the line to get customer name and total amount\n",
    "            customer_name, total_amount = line.strip().split(\",\")\n",
    "            # Convert the total_amount to integer\n",
    "            customers_dict[customer_name] = int(total_amount)\n",
    "    \n",
    "    # Initialize the summary dictionary\n",
    "    customer_summary = {}\n",
    "\n",
    "    # Categorize customers and prepare the summary\n",
    "    for name, total in customers_dict.items():\n",
    "        rewards_level = calculate_rewards(total)\n",
    "        customer_summary[name] = (total, rewards_level)\n",
    "\n",
    "    # Return the customer summary dictionary\n",
    "    return customer_summary\n",
    "\n",
    "# Example usage\n",
    "customer_summary = process_customer_data(\"customers.txt\")\n",
    "print(customer_summary)\n"
   ]
  },
  {
   "cell_type": "code",
   "execution_count": null,
   "metadata": {},
   "outputs": [],
   "source": []
  }
 ],
 "metadata": {
  "colab": {
   "collapsed_sections": [],
   "name": "1_Variables.ipynb",
   "provenance": []
  },
  "kernelspec": {
   "display_name": "Python 3 (ipykernel)",
   "language": "python",
   "name": "python3"
  },
  "language_info": {
   "codemirror_mode": {
    "name": "ipython",
    "version": 3
   },
   "file_extension": ".py",
   "mimetype": "text/x-python",
   "name": "python",
   "nbconvert_exporter": "python",
   "pygments_lexer": "ipython3",
   "version": "3.12.6"
  }
 },
 "nbformat": 4,
 "nbformat_minor": 4
}
