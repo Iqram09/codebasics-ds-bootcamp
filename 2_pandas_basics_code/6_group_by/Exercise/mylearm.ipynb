{
 "cells": [
  {
   "metadata": {
    "ExecuteTime": {
     "end_time": "2025-01-09T10:20:17.588171Z",
     "start_time": "2025-01-09T10:20:15.274210Z"
    }
   },
   "cell_type": "code",
   "source": "import pandas as pd",
   "id": "c81fdf52384cf53d",
   "outputs": [],
   "execution_count": 2
  },
  {
   "metadata": {
    "ExecuteTime": {
     "end_time": "2025-01-09T10:20:17.599384Z",
     "start_time": "2025-01-09T10:20:17.592211Z"
    }
   },
   "cell_type": "code",
   "source": [
    "data = {\n",
    "    'Category': ['A', 'B', 'A', 'B', 'C'],\n",
    "    'Values': [10, 20, 30, 40, 50]\n",
    "}\n",
    "df = pd.DataFrame(data)"
   ],
   "id": "2ad596ff08cb4992",
   "outputs": [],
   "execution_count": 3
  },
  {
   "metadata": {
    "ExecuteTime": {
     "end_time": "2025-01-09T10:20:17.664255Z",
     "start_time": "2025-01-09T10:20:17.646044Z"
    }
   },
   "cell_type": "code",
   "source": [
    "GS = df.groupby('Category')['Values'].sum()\n",
    "GS"
   ],
   "id": "2e3ef69206f6a747",
   "outputs": [
    {
     "data": {
      "text/plain": [
       "Category\n",
       "A    40\n",
       "B    60\n",
       "C    50\n",
       "Name: Values, dtype: int64"
      ]
     },
     "execution_count": 4,
     "metadata": {},
     "output_type": "execute_result"
    }
   ],
   "execution_count": 4
  },
  {
   "metadata": {
    "ExecuteTime": {
     "end_time": "2025-01-09T10:20:17.720701Z",
     "start_time": "2025-01-09T10:20:17.707650Z"
    }
   },
   "cell_type": "code",
   "source": [
    "LB = df.groupby('Category').get_group('B')\n",
    "LB\n"
   ],
   "id": "3f564956690b02b9",
   "outputs": [
    {
     "data": {
      "text/plain": [
       "  Category  Values\n",
       "1        B      20\n",
       "3        B      40"
      ],
      "text/html": [
       "<div>\n",
       "<style scoped>\n",
       "    .dataframe tbody tr th:only-of-type {\n",
       "        vertical-align: middle;\n",
       "    }\n",
       "\n",
       "    .dataframe tbody tr th {\n",
       "        vertical-align: top;\n",
       "    }\n",
       "\n",
       "    .dataframe thead th {\n",
       "        text-align: right;\n",
       "    }\n",
       "</style>\n",
       "<table border=\"1\" class=\"dataframe\">\n",
       "  <thead>\n",
       "    <tr style=\"text-align: right;\">\n",
       "      <th></th>\n",
       "      <th>Category</th>\n",
       "      <th>Values</th>\n",
       "    </tr>\n",
       "  </thead>\n",
       "  <tbody>\n",
       "    <tr>\n",
       "      <th>1</th>\n",
       "      <td>B</td>\n",
       "      <td>20</td>\n",
       "    </tr>\n",
       "    <tr>\n",
       "      <th>3</th>\n",
       "      <td>B</td>\n",
       "      <td>40</td>\n",
       "    </tr>\n",
       "  </tbody>\n",
       "</table>\n",
       "</div>"
      ]
     },
     "execution_count": 5,
     "metadata": {},
     "output_type": "execute_result"
    }
   ],
   "execution_count": 5
  }
 ],
 "metadata": {
  "kernelspec": {
   "display_name": "Python 3 (ipykernel)",
   "language": "python",
   "name": "python3"
  },
  "language_info": {
   "codemirror_mode": {
    "name": "ipython",
    "version": 3
   },
   "file_extension": ".py",
   "mimetype": "text/x-python",
   "name": "python",
   "nbconvert_exporter": "python",
   "pygments_lexer": "ipython3",
   "version": "3.8.10"
  }
 },
 "nbformat": 4,
 "nbformat_minor": 5
}
