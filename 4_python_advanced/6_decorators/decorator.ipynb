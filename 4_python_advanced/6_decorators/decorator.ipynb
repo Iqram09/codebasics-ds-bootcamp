{
 "cells": [
  {
   "metadata": {
    "ExecuteTime": {
     "end_time": "2025-03-06T12:40:16.192070Z",
     "start_time": "2025-03-06T12:40:16.181689Z"
    }
   },
   "cell_type": "code",
   "source": [
    "import time\n",
    "\n",
    "def get_square(numbers):\n",
    "    start = time.time()\n",
    "    result = []\n",
    "    for n in numbers:\n",
    "        result.append(n*n)\n",
    "    end = time.time()\n",
    "    print(f\"get_square took {(end - start)*1000} mil seconds\")\n",
    "    return result"
   ],
   "id": "ea8ebbd1ae4912c",
   "outputs": [],
   "execution_count": 1
  },
  {
   "metadata": {
    "ExecuteTime": {
     "end_time": "2025-03-06T12:40:25.045019Z",
     "start_time": "2025-03-06T12:40:25.040233Z"
    }
   },
   "cell_type": "code",
   "source": [
    "def get_cube(numbers):\n",
    "    start = time.time()\n",
    "    result = []\n",
    "    for n in numbers:\n",
    "        result.append(n*n*n)\n",
    "    end = time.time()\n",
    "    print(f\"get_cube took {(end - start)*1000} mil seconds\")\n",
    "    return result"
   ],
   "id": "2bc8454904d5ded",
   "outputs": [],
   "execution_count": 2
  },
  {
   "metadata": {
    "ExecuteTime": {
     "end_time": "2025-03-06T12:40:31.620281Z",
     "start_time": "2025-03-06T12:40:31.612288Z"
    }
   },
   "cell_type": "code",
   "source": [
    "mylist = [1,2,3,4,5]\n",
    "\n",
    "get_square(mylist)"
   ],
   "id": "fe3f17dc2d056548",
   "outputs": [
    {
     "name": "stdout",
     "output_type": "stream",
     "text": [
      "get_square took 0.0 mil seconds\n"
     ]
    },
    {
     "data": {
      "text/plain": [
       "[1, 4, 9, 16, 25]"
      ]
     },
     "execution_count": 3,
     "metadata": {},
     "output_type": "execute_result"
    }
   ],
   "execution_count": 3
  },
  {
   "metadata": {
    "ExecuteTime": {
     "end_time": "2025-03-06T12:40:38.178427Z",
     "start_time": "2025-03-06T12:40:38.172202Z"
    }
   },
   "cell_type": "code",
   "source": "get_cube(mylist)",
   "id": "55c083bb8137754f",
   "outputs": [
    {
     "name": "stdout",
     "output_type": "stream",
     "text": [
      "get_cube took 0.0 mil seconds\n"
     ]
    },
    {
     "data": {
      "text/plain": [
       "[1, 8, 27, 64, 125]"
      ]
     },
     "execution_count": 4,
     "metadata": {},
     "output_type": "execute_result"
    }
   ],
   "execution_count": 4
  },
  {
   "metadata": {},
   "cell_type": "markdown",
   "source": "",
   "id": "a337db8d0049566f"
  },
  {
   "metadata": {
    "ExecuteTime": {
     "end_time": "2025-03-06T12:41:27.020393Z",
     "start_time": "2025-03-06T12:41:27.008757Z"
    }
   },
   "cell_type": "code",
   "source": "_ = get_square(range(100000))",
   "id": "12a2ca1add1b977a",
   "outputs": [
    {
     "name": "stdout",
     "output_type": "stream",
     "text": [
      "get_square took 7.822275161743164 mil seconds\n"
     ]
    }
   ],
   "execution_count": 5
  },
  {
   "metadata": {
    "ExecuteTime": {
     "end_time": "2025-03-06T12:41:31.655550Z",
     "start_time": "2025-03-06T12:41:31.638376Z"
    }
   },
   "cell_type": "code",
   "source": "_ = get_cube(range(100000))",
   "id": "87c19ddea9093250",
   "outputs": [
    {
     "name": "stdout",
     "output_type": "stream",
     "text": [
      "get_cube took 11.971235275268555 mil seconds\n"
     ]
    }
   ],
   "execution_count": 6
  },
  {
   "metadata": {},
   "cell_type": "markdown",
   "source": "#### Functions with decorator",
   "id": "c858cbbd4802f32d"
  },
  {
   "metadata": {},
   "cell_type": "code",
   "outputs": [],
   "execution_count": null,
   "source": [
    "def timer(func):\n",
    "    def wrapper(*args, **kwargs):\n",
    "        start = time.time()\n",
    "        result = func(*args, **kwargs)\n",
    "        end = time.time()\n",
    "        print(f\"{func.__name__} took {(end - start)*1000} mil seconds\")\n",
    "        return result\n",
    "    return wrapper"
   ],
   "id": "790c5a093cc00f3e"
  },
  {
   "metadata": {},
   "cell_type": "code",
   "outputs": [],
   "execution_count": null,
   "source": [
    "@timer\n",
    "def get_square(numbers):\n",
    "    result = []\n",
    "    for n in numbers:\n",
    "        result.append(n*n)\n",
    "    return result"
   ],
   "id": "f28b57240804f2a7"
  },
  {
   "metadata": {
    "ExecuteTime": {
     "end_time": "2025-03-06T12:45:40.921240Z",
     "start_time": "2025-03-06T12:45:40.907032Z"
    }
   },
   "cell_type": "code",
   "source": "_ = get_square(range(100000))",
   "id": "2abd7ef965bd2e48",
   "outputs": [
    {
     "name": "stdout",
     "output_type": "stream",
     "text": [
      "get_square took 5.1822662353515625 mil seconds\n"
     ]
    }
   ],
   "execution_count": 7
  },
  {
   "metadata": {
    "ExecuteTime": {
     "end_time": "2025-03-06T12:46:30.455635Z",
     "start_time": "2025-03-06T12:46:30.438602Z"
    }
   },
   "cell_type": "code",
   "source": "_ = get_cube(range(100000))",
   "id": "a656ed06be12d554",
   "outputs": [
    {
     "name": "stdout",
     "output_type": "stream",
     "text": [
      "get_cube took 9.854316711425781 mil seconds\n"
     ]
    }
   ],
   "execution_count": 8
  },
  {
   "metadata": {},
   "cell_type": "code",
   "outputs": [],
   "execution_count": null,
   "source": "",
   "id": "c6e3f46a0083f029"
  },
  {
   "metadata": {},
   "cell_type": "markdown",
   "source": [
    "Decorators are commonly used for,\n",
    "\n",
    "1. Measuring time of the function\n",
    "2. Logging\n",
    "3. Access control\n",
    "4. Caching"
   ],
   "id": "c2f575e84e648c84"
  }
 ],
 "metadata": {
  "kernelspec": {
   "display_name": "Python 3",
   "language": "python",
   "name": "python3"
  },
  "language_info": {
   "codemirror_mode": {
    "name": "ipython",
    "version": 2
   },
   "file_extension": ".py",
   "mimetype": "text/x-python",
   "name": "python",
   "nbconvert_exporter": "python",
   "pygments_lexer": "ipython2",
   "version": "2.7.6"
  }
 },
 "nbformat": 4,
 "nbformat_minor": 5
}
