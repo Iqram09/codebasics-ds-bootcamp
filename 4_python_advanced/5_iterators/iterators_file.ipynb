{
 "cells": [
  {
   "cell_type": "code",
   "id": "initial_id",
   "metadata": {
    "collapsed": true,
    "ExecuteTime": {
     "end_time": "2025-03-05T11:50:55.185400Z",
     "start_time": "2025-03-05T11:50:55.178023Z"
    }
   },
   "source": [
    "prices =[]\n",
    "\n",
    "with open(\"pricing.txt\",\"r\") as f:\n",
    "    for line in f:\n",
    "        ticker, country, price, date = line.split(\"|\")\n",
    "        prices.append({\n",
    "            'ticker': ticker,\n",
    "            'country': country,\n",
    "            'price': float(price),\n",
    "            'date': date.strip()\n",
    "        })\n",
    "prices[:2]\n"
   ],
   "outputs": [
    {
     "data": {
      "text/plain": [
       "[{'ticker': 'MSFT', 'country': 'BRA', 'price': 381.26, 'date': '2023-10-27'},\n",
       " {'ticker': 'CSCO', 'country': 'USA', 'price': 187.64, 'date': '2023-02-12'}]"
      ]
     },
     "execution_count": 9,
     "metadata": {},
     "output_type": "execute_result"
    }
   ],
   "execution_count": 9
  },
  {
   "metadata": {
    "ExecuteTime": {
     "end_time": "2025-03-05T11:51:19.114382Z",
     "start_time": "2025-03-05T11:51:19.109670Z"
    }
   },
   "cell_type": "code",
   "source": "dir(f)",
   "id": "a89d1a22ff9adc75",
   "outputs": [
    {
     "data": {
      "text/plain": [
       "['_CHUNK_SIZE',\n",
       " '__class__',\n",
       " '__del__',\n",
       " '__delattr__',\n",
       " '__dict__',\n",
       " '__dir__',\n",
       " '__doc__',\n",
       " '__enter__',\n",
       " '__eq__',\n",
       " '__exit__',\n",
       " '__format__',\n",
       " '__ge__',\n",
       " '__getattribute__',\n",
       " '__getstate__',\n",
       " '__gt__',\n",
       " '__hash__',\n",
       " '__init__',\n",
       " '__init_subclass__',\n",
       " '__iter__',\n",
       " '__le__',\n",
       " '__lt__',\n",
       " '__module__',\n",
       " '__ne__',\n",
       " '__new__',\n",
       " '__next__',\n",
       " '__reduce__',\n",
       " '__reduce_ex__',\n",
       " '__repr__',\n",
       " '__setattr__',\n",
       " '__sizeof__',\n",
       " '__str__',\n",
       " '__subclasshook__',\n",
       " '_checkClosed',\n",
       " '_checkReadable',\n",
       " '_checkSeekable',\n",
       " '_checkWritable',\n",
       " '_finalizing',\n",
       " 'buffer',\n",
       " 'close',\n",
       " 'closed',\n",
       " 'detach',\n",
       " 'encoding',\n",
       " 'errors',\n",
       " 'fileno',\n",
       " 'flush',\n",
       " 'isatty',\n",
       " 'line_buffering',\n",
       " 'mode',\n",
       " 'name',\n",
       " 'newlines',\n",
       " 'read',\n",
       " 'readable',\n",
       " 'readline',\n",
       " 'readlines',\n",
       " 'reconfigure',\n",
       " 'seek',\n",
       " 'seekable',\n",
       " 'tell',\n",
       " 'truncate',\n",
       " 'writable',\n",
       " 'write',\n",
       " 'write_through',\n",
       " 'writelines']"
      ]
     },
     "execution_count": 10,
     "metadata": {},
     "output_type": "execute_result"
    }
   ],
   "execution_count": 10
  },
  {
   "metadata": {
    "ExecuteTime": {
     "end_time": "2025-03-05T11:52:43.289807Z",
     "start_time": "2025-03-05T11:52:43.283556Z"
    }
   },
   "cell_type": "code",
   "source": [
    "f= open(\"pricing.txt\",\"r\")\n",
    "iterator = iter(f)\n",
    "iterator\n"
   ],
   "id": "a93509cc69796a75",
   "outputs": [
    {
     "data": {
      "text/plain": [
       "<_io.TextIOWrapper name='pricing.txt' mode='r' encoding='cp1252'>"
      ]
     },
     "execution_count": 11,
     "metadata": {},
     "output_type": "execute_result"
    }
   ],
   "execution_count": 11
  },
  {
   "metadata": {
    "ExecuteTime": {
     "end_time": "2025-03-05T11:53:09.611885Z",
     "start_time": "2025-03-05T11:53:09.608246Z"
    }
   },
   "cell_type": "code",
   "source": "next(iterator)",
   "id": "d79b530bec57b62d",
   "outputs": [
    {
     "data": {
      "text/plain": [
       "'MSFT|BRA|381.26|2023-10-27\\n'"
      ]
     },
     "execution_count": 12,
     "metadata": {},
     "output_type": "execute_result"
    }
   ],
   "execution_count": 12
  },
  {
   "metadata": {
    "ExecuteTime": {
     "end_time": "2025-03-05T11:53:25.426393Z",
     "start_time": "2025-03-05T11:53:25.421650Z"
    }
   },
   "cell_type": "code",
   "source": "next(iterator)",
   "id": "4a8bd7e8a09887a8",
   "outputs": [
    {
     "data": {
      "text/plain": [
       "'CSCO|USA|187.64|2023-02-12\\n'"
      ]
     },
     "execution_count": 13,
     "metadata": {},
     "output_type": "execute_result"
    }
   ],
   "execution_count": 13
  },
  {
   "metadata": {},
   "cell_type": "code",
   "outputs": [],
   "execution_count": null,
   "source": "",
   "id": "30a698757ee18c4a"
  },
  {
   "metadata": {
    "ExecuteTime": {
     "end_time": "2025-03-05T11:56:32.117478Z",
     "start_time": "2025-03-05T11:56:32.107078Z"
    }
   },
   "cell_type": "code",
   "source": [
    "class RemoteControl:\n",
    "    def __init__(self):\n",
    "        self.channels = [\"NDTV\",\"CNN\",\"HBO\"]\n",
    "        self.index = -1\n",
    "\n",
    "    def __next__(self):\n",
    "        self.index += 1\n",
    "        if self.index == len(self.channels):\n",
    "            raise StopIteration\n",
    "        return self.channels[self.index]\n",
    "\n",
    "    def __iter__(self):\n",
    "        return self"
   ],
   "id": "9ec33f2151557ea3",
   "outputs": [],
   "execution_count": 14
  },
  {
   "metadata": {
    "ExecuteTime": {
     "end_time": "2025-03-05T11:56:46.429393Z",
     "start_time": "2025-03-05T11:56:46.426367Z"
    }
   },
   "cell_type": "code",
   "source": [
    "rc = RemoteControl()\n",
    "for channel in rc:\n",
    "    print(channel)"
   ],
   "id": "fab5c2b62a8d916a",
   "outputs": [
    {
     "name": "stdout",
     "output_type": "stream",
     "text": [
      "NDTV\n",
      "CNN\n",
      "HBO\n"
     ]
    }
   ],
   "execution_count": 15
  },
  {
   "metadata": {
    "ExecuteTime": {
     "end_time": "2025-03-05T11:59:03.336959Z",
     "start_time": "2025-03-05T11:59:03.333720Z"
    }
   },
   "cell_type": "code",
   "source": [
    "def remote_control():\n",
    "    yield \"NDTV\"\n",
    "    yield \"CNN\"\n",
    "    yield \"HBO\""
   ],
   "id": "38c00d9da0d09ffe",
   "outputs": [],
   "execution_count": 16
  },
  {
   "metadata": {
    "ExecuteTime": {
     "end_time": "2025-03-05T11:59:14.446346Z",
     "start_time": "2025-03-05T11:59:14.441617Z"
    }
   },
   "cell_type": "code",
   "source": [
    "rc = remote_control()\n",
    "type(rc)"
   ],
   "id": "98083b88ce830f59",
   "outputs": [
    {
     "data": {
      "text/plain": [
       "generator"
      ]
     },
     "execution_count": 17,
     "metadata": {},
     "output_type": "execute_result"
    }
   ],
   "execution_count": 17
  },
  {
   "metadata": {
    "ExecuteTime": {
     "end_time": "2025-03-05T11:59:21.059741Z",
     "start_time": "2025-03-05T11:59:21.056688Z"
    }
   },
   "cell_type": "code",
   "source": [
    "for channel in rc:\n",
    "    print(channel)"
   ],
   "id": "45f42981ea083877",
   "outputs": [
    {
     "name": "stdout",
     "output_type": "stream",
     "text": [
      "NDTV\n",
      "CNN\n",
      "HBO\n"
     ]
    }
   ],
   "execution_count": 18
  },
  {
   "metadata": {
    "ExecuteTime": {
     "end_time": "2025-03-05T12:33:32.560852Z",
     "start_time": "2025-03-05T12:33:32.556604Z"
    }
   },
   "cell_type": "code",
   "source": [
    "def get_company_data():\n",
    "    data = []\n",
    "    for i in range(3):\n",
    "        with open(f\"stock_{i+1}.txt\",\"r\") as f:\n",
    "            content = f.read()\n",
    "            data.append(content)\n",
    "    return data"
   ],
   "id": "2244fee811716696",
   "outputs": [],
   "execution_count": 19
  },
  {
   "metadata": {
    "ExecuteTime": {
     "end_time": "2025-03-05T12:33:38.932118Z",
     "start_time": "2025-03-05T12:33:38.919348Z"
    }
   },
   "cell_type": "code",
   "source": "get_company_data()",
   "id": "81538ee7244c5f92",
   "outputs": [
    {
     "data": {
      "text/plain": [
       "['{\\n    \"ticker\": \"AAPL\",\\n    \"price\": 227.67,\\n    \"date\": \"2024-08-28\",\\n    \"pe\": 23.4,\\n    \"market_cap\": 2410000000000.0,\\n    \"dividend_yield\": 0.6,\\n    \"price_to_book\": 31.8,\\n    \"dps\": 0.92,\\n    \"ebitda\": 94680000000.0,\\n    \"price_to_sales\": 7.3,\\n    \"earnings_per_share\": 9.73,\\n    \"revenue\": 387530000000.0,\\n    \"gross_margin\": 43.3,\\n    \"net_profit_margin\": 25.9,\\n    \"debt_to_equity\": 1.8,\\n    \"cash_flow\": 104300000000.0,\\n    \"operating_margin\": 30.2\\n}',\n",
       " '{\\n    \"ticker\": \"RIL\",\\n    \"price\": 2589.75,\\n    \"date\": \"2024-08-28\",\\n    \"pe\": 26.7,\\n    \"market_cap\": 1950000000000.0,\\n    \"dividend_yield\": 0.8,\\n    \"price_to_book\": 2.9,\\n    \"dps\": 15.0,\\n    \"ebitda\": 1100000000000.0,\\n    \"price_to_sales\": 1.5,\\n    \"earnings_per_share\": 97.5,\\n    \"revenue\": 6800000000000.0,\\n    \"gross_margin\": 20.4,\\n    \"net_profit_margin\": 6.3,\\n    \"debt_to_equity\": 0.4,\\n    \"cash_flow\": 820500000000.0\\n}\\n',\n",
       " '{\\n    \"ticker\": \"NVDA\",\\n    \"price\": 492.21,\\n    \"date\": \"2024-08-28\",\\n    \"pe\": 45.3,\\n    \"market_cap\": 1230000000000.0,\\n    \"dividend_yield\": 0.07,\\n    \"price_to_book\": 23.5,\\n    \"dps\": 0.16,\\n    \"ebitda\": 16400000000.0,\\n    \"price_to_sales\": 17.6,\\n    \"earnings_per_share\": 10.85,\\n    \"revenue\": 26900000000.0,\\n    \"gross_margin\": 64.1,\\n    \"net_profit_margin\": 36.2,\\n    \"debt_to_equity\": 0.5,\\n    \"cash_flow\": 9100000000.0,\\n    \"operating_margin\": 40.8\\n}\\n']"
      ]
     },
     "execution_count": 20,
     "metadata": {},
     "output_type": "execute_result"
    }
   ],
   "execution_count": 20
  },
  {
   "metadata": {
    "ExecuteTime": {
     "end_time": "2025-03-05T12:34:36.647121Z",
     "start_time": "2025-03-05T12:34:36.642981Z"
    }
   },
   "cell_type": "code",
   "source": [
    "def get_company_data():\n",
    "    data = []\n",
    "    for i in range(3):\n",
    "        with open(f\"stock_{i + 1}.txt\", \"r\") as f:\n",
    "            content = f.read()\n",
    "            yield content"
   ],
   "id": "7f38afeb24df3709",
   "outputs": [],
   "execution_count": 21
  },
  {
   "metadata": {
    "ExecuteTime": {
     "end_time": "2025-03-05T12:35:03.728765Z",
     "start_time": "2025-03-05T12:35:03.724066Z"
    }
   },
   "cell_type": "code",
   "source": [
    "for company in get_company_data():\n",
    "    print(company)"
   ],
   "id": "4f4b1dc525eb699d",
   "outputs": [
    {
     "name": "stdout",
     "output_type": "stream",
     "text": [
      "{\n",
      "    \"ticker\": \"AAPL\",\n",
      "    \"price\": 227.67,\n",
      "    \"date\": \"2024-08-28\",\n",
      "    \"pe\": 23.4,\n",
      "    \"market_cap\": 2410000000000.0,\n",
      "    \"dividend_yield\": 0.6,\n",
      "    \"price_to_book\": 31.8,\n",
      "    \"dps\": 0.92,\n",
      "    \"ebitda\": 94680000000.0,\n",
      "    \"price_to_sales\": 7.3,\n",
      "    \"earnings_per_share\": 9.73,\n",
      "    \"revenue\": 387530000000.0,\n",
      "    \"gross_margin\": 43.3,\n",
      "    \"net_profit_margin\": 25.9,\n",
      "    \"debt_to_equity\": 1.8,\n",
      "    \"cash_flow\": 104300000000.0,\n",
      "    \"operating_margin\": 30.2\n",
      "}\n",
      "{\n",
      "    \"ticker\": \"RIL\",\n",
      "    \"price\": 2589.75,\n",
      "    \"date\": \"2024-08-28\",\n",
      "    \"pe\": 26.7,\n",
      "    \"market_cap\": 1950000000000.0,\n",
      "    \"dividend_yield\": 0.8,\n",
      "    \"price_to_book\": 2.9,\n",
      "    \"dps\": 15.0,\n",
      "    \"ebitda\": 1100000000000.0,\n",
      "    \"price_to_sales\": 1.5,\n",
      "    \"earnings_per_share\": 97.5,\n",
      "    \"revenue\": 6800000000000.0,\n",
      "    \"gross_margin\": 20.4,\n",
      "    \"net_profit_margin\": 6.3,\n",
      "    \"debt_to_equity\": 0.4,\n",
      "    \"cash_flow\": 820500000000.0\n",
      "}\n",
      "\n",
      "{\n",
      "    \"ticker\": \"NVDA\",\n",
      "    \"price\": 492.21,\n",
      "    \"date\": \"2024-08-28\",\n",
      "    \"pe\": 45.3,\n",
      "    \"market_cap\": 1230000000000.0,\n",
      "    \"dividend_yield\": 0.07,\n",
      "    \"price_to_book\": 23.5,\n",
      "    \"dps\": 0.16,\n",
      "    \"ebitda\": 16400000000.0,\n",
      "    \"price_to_sales\": 17.6,\n",
      "    \"earnings_per_share\": 10.85,\n",
      "    \"revenue\": 26900000000.0,\n",
      "    \"gross_margin\": 64.1,\n",
      "    \"net_profit_margin\": 36.2,\n",
      "    \"debt_to_equity\": 0.5,\n",
      "    \"cash_flow\": 9100000000.0,\n",
      "    \"operating_margin\": 40.8\n",
      "}\n",
      "\n"
     ]
    }
   ],
   "execution_count": 22
  },
  {
   "metadata": {
    "ExecuteTime": {
     "end_time": "2025-03-05T12:40:51.796696Z",
     "start_time": "2025-03-05T12:40:51.793147Z"
    }
   },
   "cell_type": "code",
   "source": [
    "def fibonacii():\n",
    "    a,b = 0,1\n",
    "    while True:\n",
    "        yield a\n",
    "        a,b = b,a+b"
   ],
   "id": "a1b8457ecd0f890",
   "outputs": [],
   "execution_count": 23
  },
  {
   "metadata": {
    "ExecuteTime": {
     "end_time": "2025-03-05T12:41:32.213450Z",
     "start_time": "2025-03-05T12:41:32.209872Z"
    }
   },
   "cell_type": "code",
   "source": [
    "fib_gen = fibonacii()\n",
    "\n",
    "for num in range(10):\n",
    "    print(next(fib_gen))"
   ],
   "id": "73afe9b4068b7e54",
   "outputs": [
    {
     "name": "stdout",
     "output_type": "stream",
     "text": [
      "0\n",
      "1\n",
      "1\n",
      "2\n",
      "3\n",
      "5\n",
      "8\n",
      "13\n",
      "21\n",
      "34\n"
     ]
    }
   ],
   "execution_count": 24
  },
  {
   "metadata": {},
   "cell_type": "code",
   "outputs": [],
   "execution_count": null,
   "source": "",
   "id": "b7b7d035d8aacd1c"
  }
 ],
 "metadata": {
  "kernelspec": {
   "display_name": "Python 3",
   "language": "python",
   "name": "python3"
  },
  "language_info": {
   "codemirror_mode": {
    "name": "ipython",
    "version": 2
   },
   "file_extension": ".py",
   "mimetype": "text/x-python",
   "name": "python",
   "nbconvert_exporter": "python",
   "pygments_lexer": "ipython2",
   "version": "2.7.6"
  }
 },
 "nbformat": 4,
 "nbformat_minor": 5
}
