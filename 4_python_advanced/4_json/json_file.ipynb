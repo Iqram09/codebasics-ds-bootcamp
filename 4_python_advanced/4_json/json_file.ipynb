{
 "cells": [
  {
   "cell_type": "code",
   "id": "initial_id",
   "metadata": {
    "collapsed": true,
    "ExecuteTime": {
     "end_time": "2025-02-22T04:50:15.821780Z",
     "start_time": "2025-02-22T04:50:15.815134Z"
    }
   },
   "source": [
    "# JSON string\n",
    "json_string = '''\n",
    "{\n",
    "    \"name\": \"Iqram\",\n",
    "    \"age\": 25,\n",
    "    \"is_employee\": false,\n",
    "    \"skills\": [\"Python\", \"Data Science\", \"Machine Learning\", \"Deep Learning\"],\n",
    "    \"education\": {\n",
    "        \"degree\": \"Master's\",\n",
    "        \"field\": \"Artificial Intelligence\",\n",
    "        \"university\": \"XYZ University\"\n",
    "    },\n",
    "    \"experience\": [\n",
    "        {\n",
    "            \"role\": \"Data Analyst\",\n",
    "            \"company\": \"ABC Corp\",\n",
    "            \"years\": 2\n",
    "        },\n",
    "        {\n",
    "            \"role\": \"AI Engineer\",\n",
    "            \"company\": \"Tech Innovators\",\n",
    "            \"years\": 1\n",
    "        }\n",
    "    ],\n",
    "    \"projects\": [\n",
    "        \"Customer Churn Prediction\",\n",
    "        \"Stock Market Forecasting\",\n",
    "        \"Recommendation System\"\n",
    "    ],\n",
    "    \"certifications\": [\n",
    "        {\n",
    "            \"name\": \"TensorFlow Developer\",\n",
    "            \"year\": 2023\n",
    "        },\n",
    "        {\n",
    "            \"name\": \"AWS Machine Learning\",\n",
    "            \"year\": 2024\n",
    "        }\n",
    "    ]\n",
    "}\n",
    "'''\n",
    "\n",
    "# Checking type\n",
    "print(type(json_string))  # Output: str\n"
   ],
   "outputs": [
    {
     "name": "stdout",
     "output_type": "stream",
     "text": [
      "<class 'str'>\n"
     ]
    }
   ],
   "execution_count": 18
  },
  {
   "metadata": {
    "ExecuteTime": {
     "end_time": "2025-02-22T04:50:15.860343Z",
     "start_time": "2025-02-22T04:50:15.855869Z"
    }
   },
   "cell_type": "code",
   "source": [
    "import json\n",
    "\n",
    "record = json.loads(json_string)\n",
    "print(record)"
   ],
   "id": "ef723533a5da78ae",
   "outputs": [
    {
     "name": "stdout",
     "output_type": "stream",
     "text": [
      "{'name': 'Iqram', 'age': 25, 'is_employee': False, 'skills': ['Python', 'Data Science', 'Machine Learning', 'Deep Learning'], 'education': {'degree': \"Master's\", 'field': 'Artificial Intelligence', 'university': 'XYZ University'}, 'experience': [{'role': 'Data Analyst', 'company': 'ABC Corp', 'years': 2}, {'role': 'AI Engineer', 'company': 'Tech Innovators', 'years': 1}], 'projects': ['Customer Churn Prediction', 'Stock Market Forecasting', 'Recommendation System'], 'certifications': [{'name': 'TensorFlow Developer', 'year': 2023}, {'name': 'AWS Machine Learning', 'year': 2024}]}\n"
     ]
    }
   ],
   "execution_count": 19
  },
  {
   "metadata": {
    "ExecuteTime": {
     "end_time": "2025-02-22T04:50:15.887809Z",
     "start_time": "2025-02-22T04:50:15.883356Z"
    }
   },
   "cell_type": "code",
   "source": "print(type(record))",
   "id": "9d3dd620f129880f",
   "outputs": [
    {
     "name": "stdout",
     "output_type": "stream",
     "text": [
      "<class 'dict'>\n"
     ]
    }
   ],
   "execution_count": 20
  },
  {
   "metadata": {
    "ExecuteTime": {
     "end_time": "2025-02-22T04:50:15.923297Z",
     "start_time": "2025-02-22T04:50:15.918392Z"
    }
   },
   "cell_type": "code",
   "source": "print(record['name'])",
   "id": "65df111b9d2eea85",
   "outputs": [
    {
     "name": "stdout",
     "output_type": "stream",
     "text": [
      "Iqram\n"
     ]
    }
   ],
   "execution_count": 21
  },
  {
   "metadata": {
    "ExecuteTime": {
     "end_time": "2025-02-22T04:50:15.961193Z",
     "start_time": "2025-02-22T04:50:15.956914Z"
    }
   },
   "cell_type": "code",
   "source": [
    "data = {\n",
    "    \"name\": \"Ayaan\",\n",
    "    \"age\": 28,\n",
    "    \"is_employee\": True,\n",
    "    \"skills\": [\"Python\", \"Data Science\", \"Machine Learning\", \"Web Development\"],\n",
    "    \"address\": {\n",
    "        \"street\": \"789 Oak St\",\n",
    "        \"city\": \"Metropolis\"\n",
    "    },\n",
    "    \"hobbies\": [\"Chess\", \"Reading\", \"Gaming\"],\n",
    "    \"projects\": [\n",
    "        {\"title\": \"AI Chatbot\", \"year\": 2023},\n",
    "        {\"title\": \"Stock Market Predictor\", \"year\": 2024}\n",
    "    ]\n",
    "}"
   ],
   "id": "d50db089f47d558c",
   "outputs": [],
   "execution_count": 22
  },
  {
   "metadata": {
    "ExecuteTime": {
     "end_time": "2025-02-22T04:50:15.988806Z",
     "start_time": "2025-02-22T04:50:15.985264Z"
    }
   },
   "cell_type": "code",
   "source": [
    "data_str = json.dumps(data)\n",
    "print(data_str)\n"
   ],
   "id": "aa95d2fea0854cc3",
   "outputs": [
    {
     "name": "stdout",
     "output_type": "stream",
     "text": [
      "{\"name\": \"Ayaan\", \"age\": 28, \"is_employee\": true, \"skills\": [\"Python\", \"Data Science\", \"Machine Learning\", \"Web Development\"], \"address\": {\"street\": \"789 Oak St\", \"city\": \"Metropolis\"}, \"hobbies\": [\"Chess\", \"Reading\", \"Gaming\"], \"projects\": [{\"title\": \"AI Chatbot\", \"year\": 2023}, {\"title\": \"Stock Market Predictor\", \"year\": 2024}]}\n"
     ]
    }
   ],
   "execution_count": 23
  },
  {
   "metadata": {
    "ExecuteTime": {
     "end_time": "2025-02-22T04:50:16.021571Z",
     "start_time": "2025-02-22T04:50:16.015333Z"
    }
   },
   "cell_type": "code",
   "source": "type(data_str)",
   "id": "9bfb243933dc836c",
   "outputs": [
    {
     "data": {
      "text/plain": [
       "str"
      ]
     },
     "execution_count": 24,
     "metadata": {},
     "output_type": "execute_result"
    }
   ],
   "execution_count": 24
  },
  {
   "metadata": {
    "ExecuteTime": {
     "end_time": "2025-02-22T04:50:16.050949Z",
     "start_time": "2025-02-22T04:50:16.046749Z"
    }
   },
   "cell_type": "code",
   "source": [
    "with open(\"data.json\", \"w\") as f:\n",
    "    json.dump(data, f, indent=4)"
   ],
   "id": "39050fef61db8376",
   "outputs": [],
   "execution_count": 25
  },
  {
   "metadata": {
    "ExecuteTime": {
     "end_time": "2025-02-22T04:50:16.073064Z",
     "start_time": "2025-02-22T04:50:16.066972Z"
    }
   },
   "cell_type": "code",
   "source": [
    "with open(\"products.json\", \"r\") as file:\n",
    "    products = json.load(file)\n",
    "products"
   ],
   "id": "69613ac01bbac9ab",
   "outputs": [
    {
     "data": {
      "text/plain": [
       "[{'product_id': 1,\n",
       "  'sku': 'ABC123',\n",
       "  'name': 'Wireless Mouse',\n",
       "  'price': 25.99,\n",
       "  'description': 'A comfortable wireless mouse with ergonomic design.',\n",
       "  'in_stock': True,\n",
       "  'category': 'Electronics'},\n",
       " {'product_id': 2,\n",
       "  'sku': 'XYZ789',\n",
       "  'name': 'Mechanical Keyboard',\n",
       "  'price': 89.99,\n",
       "  'description': 'A high-quality mechanical keyboard with customizable keys.',\n",
       "  'in_stock': True,\n",
       "  'category': 'Electronics'},\n",
       " {'product_id': 3,\n",
       "  'sku': 'LMN456',\n",
       "  'name': 'USB-C Charger',\n",
       "  'price': 19.99,\n",
       "  'description': 'A fast-charging USB-C charger with multiple ports.',\n",
       "  'in_stock': False,\n",
       "  'category': 'Accessories'},\n",
       " {'product_id': 4,\n",
       "  'sku': 'QWE234',\n",
       "  'name': 'Bluetooth Speaker',\n",
       "  'price': 49.99,\n",
       "  'description': 'A portable Bluetooth speaker with excellent sound quality.',\n",
       "  'in_stock': True,\n",
       "  'category': 'Audio'},\n",
       " {'product_id': 5,\n",
       "  'sku': 'RTY678',\n",
       "  'name': 'Smartphone Stand',\n",
       "  'price': 14.99,\n",
       "  'description': 'An adjustable smartphone stand for hands-free viewing.',\n",
       "  'in_stock': True,\n",
       "  'category': 'Accessories'}]"
      ]
     },
     "execution_count": 26,
     "metadata": {},
     "output_type": "execute_result"
    }
   ],
   "execution_count": 26
  },
  {
   "metadata": {
    "ExecuteTime": {
     "end_time": "2025-02-22T04:50:16.107866Z",
     "start_time": "2025-02-22T04:50:16.103221Z"
    }
   },
   "cell_type": "code",
   "source": "type(products)",
   "id": "65941f59310674fb",
   "outputs": [
    {
     "data": {
      "text/plain": [
       "list"
      ]
     },
     "execution_count": 27,
     "metadata": {},
     "output_type": "execute_result"
    }
   ],
   "execution_count": 27
  },
  {
   "metadata": {
    "ExecuteTime": {
     "end_time": "2025-02-22T04:50:16.154547Z",
     "start_time": "2025-02-22T04:50:16.148437Z"
    }
   },
   "cell_type": "code",
   "source": "products[0]['price']",
   "id": "377e9fa2a3ac66fa",
   "outputs": [
    {
     "data": {
      "text/plain": [
       "25.99"
      ]
     },
     "execution_count": 28,
     "metadata": {},
     "output_type": "execute_result"
    }
   ],
   "execution_count": 28
  },
  {
   "metadata": {
    "ExecuteTime": {
     "end_time": "2025-02-22T04:50:16.197871Z",
     "start_time": "2025-02-22T04:50:16.194331Z"
    }
   },
   "cell_type": "code",
   "source": [
    "json_string = '''\n",
    "{\n",
    "    \"books\": [\n",
    "        {\"title\": \"The Magic Of Thinking Big\", \"author\": \"David J. Schwartz\", \"published\": 1959},\n",
    "        {\"title\": \"Chanakya Neeti\", \"author\": \"B.K. Chaturvedi\", \"published\": 2009},\n",
    "        {\"title\": \"How to Win Friends and Influence People\", \"author\": \"Dale Karnegie\", \"published\": 1936}\n",
    "    ],\n",
    "    \"status_code\": 200\n",
    "}\n",
    "'''"
   ],
   "id": "a6ace3b5ea00d5c8",
   "outputs": [],
   "execution_count": 29
  },
  {
   "metadata": {
    "ExecuteTime": {
     "end_time": "2025-02-22T04:50:16.222394Z",
     "start_time": "2025-02-22T04:50:16.215406Z"
    }
   },
   "cell_type": "code",
   "source": [
    "data = json.loads(json_string)\n",
    "books = data['books']\n",
    "books"
   ],
   "id": "1382cb7485709cd5",
   "outputs": [
    {
     "data": {
      "text/plain": [
       "[{'title': 'The Magic Of Thinking Big',\n",
       "  'author': 'David J. Schwartz',\n",
       "  'published': 1959},\n",
       " {'title': 'Chanakya Neeti', 'author': 'B.K. Chaturvedi', 'published': 2009},\n",
       " {'title': 'How to Win Friends and Influence People',\n",
       "  'author': 'Dale Karnegie',\n",
       "  'published': 1936}]"
      ]
     },
     "execution_count": 30,
     "metadata": {},
     "output_type": "execute_result"
    }
   ],
   "execution_count": 30
  },
  {
   "metadata": {
    "ExecuteTime": {
     "end_time": "2025-02-22T04:50:16.251005Z",
     "start_time": "2025-02-22T04:50:16.244111Z"
    }
   },
   "cell_type": "code",
   "source": [
    "book_info = [{\"title\": book[\"title\"], \"author\": book[\"author\"]} for book in books]\n",
    "book_info"
   ],
   "id": "c69f0175f187f5c",
   "outputs": [
    {
     "data": {
      "text/plain": [
       "[{'title': 'The Magic Of Thinking Big', 'author': 'David J. Schwartz'},\n",
       " {'title': 'Chanakya Neeti', 'author': 'B.K. Chaturvedi'},\n",
       " {'title': 'How to Win Friends and Influence People',\n",
       "  'author': 'Dale Karnegie'}]"
      ]
     },
     "execution_count": 31,
     "metadata": {},
     "output_type": "execute_result"
    }
   ],
   "execution_count": 31
  },
  {
   "metadata": {
    "ExecuteTime": {
     "end_time": "2025-02-22T04:50:20.146883Z",
     "start_time": "2025-02-22T04:50:20.143382Z"
    }
   },
   "cell_type": "code",
   "source": [
    "# Malformed JSON string\n",
    "json_string = '''\n",
    "{\n",
    "    \"name\": \"Krishna\",\n",
    "    \"age\": 30\n",
    "    \"is_employee\": true\n",
    "}\n",
    "'''"
   ],
   "id": "54c9113c8d60bfb6",
   "outputs": [],
   "execution_count": 34
  },
  {
   "metadata": {
    "ExecuteTime": {
     "end_time": "2025-02-22T04:50:22.343528Z",
     "start_time": "2025-02-22T04:50:22.310378Z"
    }
   },
   "cell_type": "code",
   "source": "json.loads(json_string)",
   "id": "50cc6359b036a1c6",
   "outputs": [
    {
     "ename": "JSONDecodeError",
     "evalue": "Expecting ',' delimiter: line 5 column 5 (char 44)",
     "output_type": "error",
     "traceback": [
      "\u001B[1;31m---------------------------------------------------------------------------\u001B[0m",
      "\u001B[1;31mJSONDecodeError\u001B[0m                           Traceback (most recent call last)",
      "Cell \u001B[1;32mIn[35], line 1\u001B[0m\n\u001B[1;32m----> 1\u001B[0m \u001B[43mjson\u001B[49m\u001B[38;5;241;43m.\u001B[39;49m\u001B[43mloads\u001B[49m\u001B[43m(\u001B[49m\u001B[43mjson_string\u001B[49m\u001B[43m)\u001B[49m\n",
      "File \u001B[1;32mC:\\Python312\\Lib\\json\\__init__.py:346\u001B[0m, in \u001B[0;36mloads\u001B[1;34m(s, cls, object_hook, parse_float, parse_int, parse_constant, object_pairs_hook, **kw)\u001B[0m\n\u001B[0;32m    341\u001B[0m     s \u001B[38;5;241m=\u001B[39m s\u001B[38;5;241m.\u001B[39mdecode(detect_encoding(s), \u001B[38;5;124m'\u001B[39m\u001B[38;5;124msurrogatepass\u001B[39m\u001B[38;5;124m'\u001B[39m)\n\u001B[0;32m    343\u001B[0m \u001B[38;5;28;01mif\u001B[39;00m (\u001B[38;5;28mcls\u001B[39m \u001B[38;5;129;01mis\u001B[39;00m \u001B[38;5;28;01mNone\u001B[39;00m \u001B[38;5;129;01mand\u001B[39;00m object_hook \u001B[38;5;129;01mis\u001B[39;00m \u001B[38;5;28;01mNone\u001B[39;00m \u001B[38;5;129;01mand\u001B[39;00m\n\u001B[0;32m    344\u001B[0m         parse_int \u001B[38;5;129;01mis\u001B[39;00m \u001B[38;5;28;01mNone\u001B[39;00m \u001B[38;5;129;01mand\u001B[39;00m parse_float \u001B[38;5;129;01mis\u001B[39;00m \u001B[38;5;28;01mNone\u001B[39;00m \u001B[38;5;129;01mand\u001B[39;00m\n\u001B[0;32m    345\u001B[0m         parse_constant \u001B[38;5;129;01mis\u001B[39;00m \u001B[38;5;28;01mNone\u001B[39;00m \u001B[38;5;129;01mand\u001B[39;00m object_pairs_hook \u001B[38;5;129;01mis\u001B[39;00m \u001B[38;5;28;01mNone\u001B[39;00m \u001B[38;5;129;01mand\u001B[39;00m \u001B[38;5;129;01mnot\u001B[39;00m kw):\n\u001B[1;32m--> 346\u001B[0m     \u001B[38;5;28;01mreturn\u001B[39;00m \u001B[43m_default_decoder\u001B[49m\u001B[38;5;241;43m.\u001B[39;49m\u001B[43mdecode\u001B[49m\u001B[43m(\u001B[49m\u001B[43ms\u001B[49m\u001B[43m)\u001B[49m\n\u001B[0;32m    347\u001B[0m \u001B[38;5;28;01mif\u001B[39;00m \u001B[38;5;28mcls\u001B[39m \u001B[38;5;129;01mis\u001B[39;00m \u001B[38;5;28;01mNone\u001B[39;00m:\n\u001B[0;32m    348\u001B[0m     \u001B[38;5;28mcls\u001B[39m \u001B[38;5;241m=\u001B[39m JSONDecoder\n",
      "File \u001B[1;32mC:\\Python312\\Lib\\json\\decoder.py:337\u001B[0m, in \u001B[0;36mJSONDecoder.decode\u001B[1;34m(self, s, _w)\u001B[0m\n\u001B[0;32m    332\u001B[0m \u001B[38;5;28;01mdef\u001B[39;00m \u001B[38;5;21mdecode\u001B[39m(\u001B[38;5;28mself\u001B[39m, s, _w\u001B[38;5;241m=\u001B[39mWHITESPACE\u001B[38;5;241m.\u001B[39mmatch):\n\u001B[0;32m    333\u001B[0m \u001B[38;5;250m    \u001B[39m\u001B[38;5;124;03m\"\"\"Return the Python representation of ``s`` (a ``str`` instance\u001B[39;00m\n\u001B[0;32m    334\u001B[0m \u001B[38;5;124;03m    containing a JSON document).\u001B[39;00m\n\u001B[0;32m    335\u001B[0m \n\u001B[0;32m    336\u001B[0m \u001B[38;5;124;03m    \"\"\"\u001B[39;00m\n\u001B[1;32m--> 337\u001B[0m     obj, end \u001B[38;5;241m=\u001B[39m \u001B[38;5;28;43mself\u001B[39;49m\u001B[38;5;241;43m.\u001B[39;49m\u001B[43mraw_decode\u001B[49m\u001B[43m(\u001B[49m\u001B[43ms\u001B[49m\u001B[43m,\u001B[49m\u001B[43m \u001B[49m\u001B[43midx\u001B[49m\u001B[38;5;241;43m=\u001B[39;49m\u001B[43m_w\u001B[49m\u001B[43m(\u001B[49m\u001B[43ms\u001B[49m\u001B[43m,\u001B[49m\u001B[43m \u001B[49m\u001B[38;5;241;43m0\u001B[39;49m\u001B[43m)\u001B[49m\u001B[38;5;241;43m.\u001B[39;49m\u001B[43mend\u001B[49m\u001B[43m(\u001B[49m\u001B[43m)\u001B[49m\u001B[43m)\u001B[49m\n\u001B[0;32m    338\u001B[0m     end \u001B[38;5;241m=\u001B[39m _w(s, end)\u001B[38;5;241m.\u001B[39mend()\n\u001B[0;32m    339\u001B[0m     \u001B[38;5;28;01mif\u001B[39;00m end \u001B[38;5;241m!=\u001B[39m \u001B[38;5;28mlen\u001B[39m(s):\n",
      "File \u001B[1;32mC:\\Python312\\Lib\\json\\decoder.py:353\u001B[0m, in \u001B[0;36mJSONDecoder.raw_decode\u001B[1;34m(self, s, idx)\u001B[0m\n\u001B[0;32m    344\u001B[0m \u001B[38;5;250m\u001B[39m\u001B[38;5;124;03m\"\"\"Decode a JSON document from ``s`` (a ``str`` beginning with\u001B[39;00m\n\u001B[0;32m    345\u001B[0m \u001B[38;5;124;03ma JSON document) and return a 2-tuple of the Python\u001B[39;00m\n\u001B[0;32m    346\u001B[0m \u001B[38;5;124;03mrepresentation and the index in ``s`` where the document ended.\u001B[39;00m\n\u001B[1;32m   (...)\u001B[0m\n\u001B[0;32m    350\u001B[0m \n\u001B[0;32m    351\u001B[0m \u001B[38;5;124;03m\"\"\"\u001B[39;00m\n\u001B[0;32m    352\u001B[0m \u001B[38;5;28;01mtry\u001B[39;00m:\n\u001B[1;32m--> 353\u001B[0m     obj, end \u001B[38;5;241m=\u001B[39m \u001B[38;5;28;43mself\u001B[39;49m\u001B[38;5;241;43m.\u001B[39;49m\u001B[43mscan_once\u001B[49m\u001B[43m(\u001B[49m\u001B[43ms\u001B[49m\u001B[43m,\u001B[49m\u001B[43m \u001B[49m\u001B[43midx\u001B[49m\u001B[43m)\u001B[49m\n\u001B[0;32m    354\u001B[0m \u001B[38;5;28;01mexcept\u001B[39;00m \u001B[38;5;167;01mStopIteration\u001B[39;00m \u001B[38;5;28;01mas\u001B[39;00m err:\n\u001B[0;32m    355\u001B[0m     \u001B[38;5;28;01mraise\u001B[39;00m JSONDecodeError(\u001B[38;5;124m\"\u001B[39m\u001B[38;5;124mExpecting value\u001B[39m\u001B[38;5;124m\"\u001B[39m, s, err\u001B[38;5;241m.\u001B[39mvalue) \u001B[38;5;28;01mfrom\u001B[39;00m \u001B[38;5;28;01mNone\u001B[39;00m\n",
      "\u001B[1;31mJSONDecodeError\u001B[0m: Expecting ',' delimiter: line 5 column 5 (char 44)"
     ]
    }
   ],
   "execution_count": 35
  },
  {
   "metadata": {
    "ExecuteTime": {
     "end_time": "2025-02-22T04:50:28.085840Z",
     "start_time": "2025-02-22T04:50:28.082364Z"
    }
   },
   "cell_type": "code",
   "source": [
    "try:\n",
    "    data = json.loads(json_string)\n",
    "except json.JSONDecodeError as e:\n",
    "    print(f\"Failed to parse JSON: {e}\")"
   ],
   "id": "c485caf052244c45",
   "outputs": [
    {
     "name": "stdout",
     "output_type": "stream",
     "text": [
      "Failed to parse JSON: Expecting ',' delimiter: line 5 column 5 (char 44)\n"
     ]
    }
   ],
   "execution_count": 36
  }
 ],
 "metadata": {
  "kernelspec": {
   "display_name": "Python 3",
   "language": "python",
   "name": "python3"
  },
  "language_info": {
   "codemirror_mode": {
    "name": "ipython",
    "version": 2
   },
   "file_extension": ".py",
   "mimetype": "text/x-python",
   "name": "python",
   "nbconvert_exporter": "python",
   "pygments_lexer": "ipython2",
   "version": "2.7.6"
  }
 },
 "nbformat": 4,
 "nbformat_minor": 5
}
