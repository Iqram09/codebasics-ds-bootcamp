{
 "cells": [
  {
   "cell_type": "code",
   "id": "initial_id",
   "metadata": {
    "collapsed": true,
    "ExecuteTime": {
     "end_time": "2025-03-07T11:12:51.166146Z",
     "start_time": "2025-03-07T11:12:50.675978Z"
    }
   },
   "source": "import requests",
   "outputs": [],
   "execution_count": 1
  },
  {
   "metadata": {
    "ExecuteTime": {
     "end_time": "2025-03-07T11:48:55.300997Z",
     "start_time": "2025-03-07T11:48:55.215433Z"
    }
   },
   "cell_type": "code",
   "source": [
    "url = \"https://jsonplaceholder.typicode.com/posts\"\n",
    "response = requests.get(url)\n",
    "print(response)"
   ],
   "id": "215249e14b1e03ef",
   "outputs": [
    {
     "name": "stdout",
     "output_type": "stream",
     "text": [
      "<Response [200]>\n"
     ]
    }
   ],
   "execution_count": 2
  },
  {
   "metadata": {
    "ExecuteTime": {
     "end_time": "2025-03-07T11:49:13.384174Z",
     "start_time": "2025-03-07T11:49:13.376859Z"
    }
   },
   "cell_type": "code",
   "source": "dir(response)",
   "id": "5030e25d9999fbb2",
   "outputs": [
    {
     "data": {
      "text/plain": [
       "['__attrs__',\n",
       " '__bool__',\n",
       " '__class__',\n",
       " '__delattr__',\n",
       " '__dict__',\n",
       " '__dir__',\n",
       " '__doc__',\n",
       " '__enter__',\n",
       " '__eq__',\n",
       " '__exit__',\n",
       " '__format__',\n",
       " '__ge__',\n",
       " '__getattribute__',\n",
       " '__getstate__',\n",
       " '__gt__',\n",
       " '__hash__',\n",
       " '__init__',\n",
       " '__init_subclass__',\n",
       " '__iter__',\n",
       " '__le__',\n",
       " '__lt__',\n",
       " '__module__',\n",
       " '__ne__',\n",
       " '__new__',\n",
       " '__nonzero__',\n",
       " '__reduce__',\n",
       " '__reduce_ex__',\n",
       " '__repr__',\n",
       " '__setattr__',\n",
       " '__setstate__',\n",
       " '__sizeof__',\n",
       " '__str__',\n",
       " '__subclasshook__',\n",
       " '__weakref__',\n",
       " '_content',\n",
       " '_content_consumed',\n",
       " '_next',\n",
       " 'apparent_encoding',\n",
       " 'close',\n",
       " 'connection',\n",
       " 'content',\n",
       " 'cookies',\n",
       " 'elapsed',\n",
       " 'encoding',\n",
       " 'headers',\n",
       " 'history',\n",
       " 'is_permanent_redirect',\n",
       " 'is_redirect',\n",
       " 'iter_content',\n",
       " 'iter_lines',\n",
       " 'json',\n",
       " 'links',\n",
       " 'next',\n",
       " 'ok',\n",
       " 'raise_for_status',\n",
       " 'raw',\n",
       " 'reason',\n",
       " 'request',\n",
       " 'status_code',\n",
       " 'text',\n",
       " 'url']"
      ]
     },
     "execution_count": 3,
     "metadata": {},
     "output_type": "execute_result"
    }
   ],
   "execution_count": 3
  },
  {
   "metadata": {
    "ExecuteTime": {
     "end_time": "2025-03-07T11:49:48.984625Z",
     "start_time": "2025-03-07T11:49:48.979762Z"
    }
   },
   "cell_type": "code",
   "source": "print(response.status_code)",
   "id": "3c29795f4f1efdda",
   "outputs": [
    {
     "name": "stdout",
     "output_type": "stream",
     "text": [
      "200\n"
     ]
    }
   ],
   "execution_count": 4
  },
  {
   "metadata": {
    "ExecuteTime": {
     "end_time": "2025-03-07T11:55:45.066752Z",
     "start_time": "2025-03-07T11:55:45.063533Z"
    }
   },
   "cell_type": "code",
   "source": "",
   "id": "d362bf3768a6db9f",
   "outputs": [],
   "execution_count": null
  },
  {
   "metadata": {
    "ExecuteTime": {
     "end_time": "2025-03-07T11:55:35.763883Z",
     "start_time": "2025-03-07T11:55:35.759254Z"
    }
   },
   "cell_type": "code",
   "source": [
    "if response.status_code == 200:\n",
    "    data = response.json()\n",
    "    print(data[0])\n",
    "else:\n",
    "    print(\"Error\")"
   ],
   "id": "7941919b410fc20a",
   "outputs": [
    {
     "name": "stdout",
     "output_type": "stream",
     "text": [
      "{'userId': 1, 'id': 1, 'title': 'sunt aut facere repellat provident occaecati excepturi optio reprehenderit', 'body': 'quia et suscipit\\nsuscipit recusandae consequuntur expedita et cum\\nreprehenderit molestiae ut ut quas totam\\nnostrum rerum est autem sunt rem eveniet architecto'}\n"
     ]
    }
   ],
   "execution_count": 10
  },
  {
   "metadata": {
    "ExecuteTime": {
     "end_time": "2025-03-07T11:59:17.416719Z",
     "start_time": "2025-03-07T11:59:16.733119Z"
    }
   },
   "cell_type": "code",
   "source": [
    "url = \"https://jsonplaceholder.typicode.com/posts\"\n",
    "\n",
    "data = {\n",
    "    \"title\":\"luffy\",\n",
    "    \"body\":\"rubber\",\n",
    "    \"userId\":1\n",
    "}\n",
    "\n",
    "response = requests.post(url,json=data)\n",
    "response.status_code"
   ],
   "id": "e89956c4cdef0fec",
   "outputs": [
    {
     "data": {
      "text/plain": [
       "201"
      ]
     },
     "execution_count": 11,
     "metadata": {},
     "output_type": "execute_result"
    }
   ],
   "execution_count": 11
  },
  {
   "metadata": {
    "ExecuteTime": {
     "end_time": "2025-03-07T12:00:48.662443Z",
     "start_time": "2025-03-07T12:00:48.658850Z"
    }
   },
   "cell_type": "code",
   "source": [
    "if response.status_code == 201:\n",
    "    create = response.json()\n",
    "    print(create)\n",
    "else:\n",
    "    print(\"Error\")"
   ],
   "id": "d80682b19d9d204b",
   "outputs": [
    {
     "name": "stdout",
     "output_type": "stream",
     "text": [
      "{'title': 'luffy', 'body': 'rubber', 'userId': 1, 'id': 101}\n"
     ]
    }
   ],
   "execution_count": 14
  },
  {
   "metadata": {
    "ExecuteTime": {
     "end_time": "2025-03-07T12:42:55.764472Z",
     "start_time": "2025-03-07T12:42:55.731671Z"
    }
   },
   "cell_type": "code",
   "source": [
    "url = \"https://jsonplaceholder.typicode.com/posts/1\"\n",
    "\n",
    "response = requests.get(url)\n",
    "\n",
    "if response.status_code == 200:\n",
    "    print(\"Request was successful\")\n",
    "    print(response.json())\n",
    "elif response.status_code == 404:\n",
    "    print(\"Resource not found\")\n",
    "else:\n",
    "    print(f\"Failed with status code {response.status_code}\")"
   ],
   "id": "c7f9639b260fa65d",
   "outputs": [
    {
     "name": "stdout",
     "output_type": "stream",
     "text": [
      "Request was successful\n",
      "{'userId': 1, 'id': 1, 'title': 'sunt aut facere repellat provident occaecati excepturi optio reprehenderit', 'body': 'quia et suscipit\\nsuscipit recusandae consequuntur expedita et cum\\nreprehenderit molestiae ut ut quas totam\\nnostrum rerum est autem sunt rem eveniet architecto'}\n"
     ]
    }
   ],
   "execution_count": 15
  },
  {
   "metadata": {
    "ExecuteTime": {
     "end_time": "2025-03-07T12:46:45.611663Z",
     "start_time": "2025-03-07T12:46:45.585917Z"
    }
   },
   "cell_type": "code",
   "source": [
    "url = \"https://jsonplaceholder.typicode.com/posts\"\n",
    "\n",
    "params = {\n",
    "    \"userId\":1\n",
    "}\n",
    "response = requests.get(url,params=params)\n",
    "response.status_code"
   ],
   "id": "62165f426fd1b2cc",
   "outputs": [
    {
     "data": {
      "text/plain": [
       "200"
      ]
     },
     "execution_count": 18,
     "metadata": {},
     "output_type": "execute_result"
    }
   ],
   "execution_count": 18
  },
  {
   "metadata": {
    "ExecuteTime": {
     "end_time": "2025-03-12T07:04:31.065831Z",
     "start_time": "2025-03-12T07:04:31.021214Z"
    }
   },
   "cell_type": "code",
   "source": [
    "url = \"https://api.coingecko.com/api/v3/simple/price?ids=bitcoin&vs_currencies=usd,gbp,eur\"\n",
    "\n",
    "response = requests.get(url)\n",
    "\n",
    "if response.status_code == 200:\n",
    "    data = response.json()\n",
    "    print(\"Bitcoin Price Index (BPI):\")\n",
    "    print(f\"USD: {data['bitcoin']['usd']} USD\")\n",
    "    print(f\"GBP: {data['bitcoin']['gbp']} GBP\")\n",
    "    print(f\"EUR: {data['bitcoin']['eur']} EUR\")\n",
    "else:\n",
    "    print(\"Failed to retrieve data\")"
   ],
   "id": "9d6c3a0a6e6a122f",
   "outputs": [
    {
     "name": "stdout",
     "output_type": "stream",
     "text": [
      "Bitcoin Price Index (BPI):\n",
      "USD: 81396 USD\n",
      "GBP: 63018 GBP\n",
      "EUR: 74709 EUR\n"
     ]
    }
   ],
   "execution_count": 10
  },
  {
   "metadata": {},
   "cell_type": "code",
   "outputs": [],
   "execution_count": null,
   "source": "",
   "id": "8b85c5e43ad33d26"
  },
  {
   "metadata": {
    "ExecuteTime": {
     "end_time": "2025-03-12T07:10:19.048462Z",
     "start_time": "2025-03-12T07:10:18.073Z"
    }
   },
   "cell_type": "code",
   "source": [
    "app_id=\"b8c2b97af6074848913a54f4b900c66a\"\n",
    "\n",
    "url = f\"https://openexchangerates.org/api/latest.json?app_id={app_id}\"\n",
    "\n",
    "response = requests.get(url)\n",
    "response.status_code"
   ],
   "id": "3df84bc672091ecb",
   "outputs": [
    {
     "data": {
      "text/plain": [
       "200"
      ]
     },
     "execution_count": 11,
     "metadata": {},
     "output_type": "execute_result"
    }
   ],
   "execution_count": 11
  },
  {
   "metadata": {
    "ExecuteTime": {
     "end_time": "2025-03-12T07:10:27.080681Z",
     "start_time": "2025-03-12T07:10:27.073976Z"
    }
   },
   "cell_type": "code",
   "source": "response.json()",
   "id": "2509d6699f5fdf54",
   "outputs": [
    {
     "data": {
      "text/plain": [
       "{'disclaimer': 'Usage subject to terms: https://openexchangerates.org/terms',\n",
       " 'license': 'https://openexchangerates.org/license',\n",
       " 'timestamp': 1741762931,\n",
       " 'base': 'USD',\n",
       " 'rates': {'AED': 3.67276,\n",
       "  'AFN': 71.399427,\n",
       "  'ALL': 91.20457,\n",
       "  'AMD': 395.554794,\n",
       "  'ANG': 1.801994,\n",
       "  'AOA': 912,\n",
       "  'ARS': 1065.625035,\n",
       "  'AUD': 1.592737,\n",
       "  'AWG': 1.8025,\n",
       "  'AZN': 1.7,\n",
       "  'BAM': 1.793292,\n",
       "  'BBD': 2,\n",
       "  'BDT': 121.481361,\n",
       "  'BGN': 1.794882,\n",
       "  'BHD': 0.376806,\n",
       "  'BIF': 2962.178973,\n",
       "  'BMD': 1,\n",
       "  'BND': 1.331909,\n",
       "  'BOB': 6.908914,\n",
       "  'BRL': 5.8098,\n",
       "  'BSD': 1,\n",
       "  'BTC': 1.22853e-05,\n",
       "  'BTN': 87.196267,\n",
       "  'BWP': 13.640802,\n",
       "  'BYN': 3.272069,\n",
       "  'BZD': 2.00839,\n",
       "  'CAD': 1.446236,\n",
       "  'CDF': 2864.076974,\n",
       "  'CHF': 0.883276,\n",
       "  'CLF': 0.024437,\n",
       "  'CLP': 937.74,\n",
       "  'CNH': 7.247373,\n",
       "  'CNY': 7.2453,\n",
       "  'COP': 4183.117138,\n",
       "  'CRC': 502.464377,\n",
       "  'CUC': 1,\n",
       "  'CUP': 25.75,\n",
       "  'CVE': 101.103038,\n",
       "  'CZK': 22.964285,\n",
       "  'DJF': 178.044702,\n",
       "  'DKK': 6.846968,\n",
       "  'DOP': 62.624634,\n",
       "  'DZD': 133.52,\n",
       "  'EGP': 50.600614,\n",
       "  'ERN': 15,\n",
       "  'ETB': 130.530032,\n",
       "  'EUR': 0.917991,\n",
       "  'FJD': 2.2984,\n",
       "  'FKP': 0.774216,\n",
       "  'GBP': 0.774216,\n",
       "  'GEL': 2.775,\n",
       "  'GGP': 0.774216,\n",
       "  'GHS': 15.497607,\n",
       "  'GIP': 0.774216,\n",
       "  'GMD': 71.999996,\n",
       "  'GNF': 8645.600326,\n",
       "  'GTQ': 7.708459,\n",
       "  'GYD': 209.183835,\n",
       "  'HKD': 7.770515,\n",
       "  'HNL': 25.57066,\n",
       "  'HRK': 6.914377,\n",
       "  'HTG': 131.127832,\n",
       "  'HUF': 368.608283,\n",
       "  'IDR': 16466.043762,\n",
       "  'ILS': 3.64955,\n",
       "  'IMP': 0.774216,\n",
       "  'INR': 87.288901,\n",
       "  'IQD': 1309.812058,\n",
       "  'IRR': 42112.5,\n",
       "  'ISK': 134.85,\n",
       "  'JEP': 0.774216,\n",
       "  'JMD': 157.139246,\n",
       "  'JOD': 0.7093,\n",
       "  'JPY': 148.341,\n",
       "  'KES': 129.25,\n",
       "  'KGS': 87.449,\n",
       "  'KHR': 4007.847778,\n",
       "  'KMF': 454.850428,\n",
       "  'KPW': 900,\n",
       "  'KRW': 1452.431435,\n",
       "  'KWD': 0.308144,\n",
       "  'KYD': 0.833192,\n",
       "  'KZT': 487.90371,\n",
       "  'LAK': 21657.528799,\n",
       "  'LBP': 89576.1189,\n",
       "  'LKR': 295.400823,\n",
       "  'LRD': 199.967905,\n",
       "  'LSL': 18.262923,\n",
       "  'LYD': 4.818338,\n",
       "  'MAD': 9.680824,\n",
       "  'MDL': 17.847565,\n",
       "  'MGA': 4670.721985,\n",
       "  'MKD': 56.46179,\n",
       "  'MMK': 2098,\n",
       "  'MNT': 3398,\n",
       "  'MOP': 8.002145,\n",
       "  'MRU': 39.713926,\n",
       "  'MUR': 45.08,\n",
       "  'MVR': 15.4,\n",
       "  'MWK': 1733.773782,\n",
       "  'MXN': 20.295459,\n",
       "  'MYR': 4.434,\n",
       "  'MZN': 63.909994,\n",
       "  'NAD': 18.262839,\n",
       "  'NGN': 1531.91,\n",
       "  'NIO': 36.795756,\n",
       "  'NOK': 10.66114,\n",
       "  'NPR': 139.513589,\n",
       "  'NZD': 1.754218,\n",
       "  'OMR': 0.385032,\n",
       "  'PAB': 1,\n",
       "  'PEN': 3.669931,\n",
       "  'PGK': 4.08298,\n",
       "  'PHP': 57.396998,\n",
       "  'PKR': 279.858324,\n",
       "  'PLN': 3.86,\n",
       "  'PYG': 7929.286424,\n",
       "  'QAR': 3.644258,\n",
       "  'RON': 4.5681,\n",
       "  'RSD': 107.48,\n",
       "  'RUB': 85.627028,\n",
       "  'RWF': 1419.829858,\n",
       "  'SAR': 3.750419,\n",
       "  'SBD': 8.421986,\n",
       "  'SCR': 14.513369,\n",
       "  'SDG': 601,\n",
       "  'SEK': 10.039205,\n",
       "  'SGD': 1.333807,\n",
       "  'SHP': 0.774216,\n",
       "  'SLL': 20969.5,\n",
       "  'SOS': 571.415388,\n",
       "  'SRD': 35.85,\n",
       "  'SSP': 130.26,\n",
       "  'STD': 22281.8,\n",
       "  'STN': 22.465007,\n",
       "  'SVC': 8.749112,\n",
       "  'SYP': 13002,\n",
       "  'SZL': 18.258338,\n",
       "  'THB': 33.85625,\n",
       "  'TJS': 10.898388,\n",
       "  'TMT': 3.5,\n",
       "  'TND': 3.084575,\n",
       "  'TOP': 2.40776,\n",
       "  'TRY': 36.607059,\n",
       "  'TTD': 6.798885,\n",
       "  'TWD': 32.9445,\n",
       "  'TZS': 2627,\n",
       "  'UAH': 41.4466,\n",
       "  'UGX': 3669.46034,\n",
       "  'USD': 1,\n",
       "  'UYU': 42.271347,\n",
       "  'UZS': 12930.12886,\n",
       "  'VES': 64.822842,\n",
       "  'VND': 25455.018581,\n",
       "  'VUV': 118.722,\n",
       "  'WST': 2.8,\n",
       "  'XAF': 602.162459,\n",
       "  'XAG': 0.03057076,\n",
       "  'XAU': 0.00034344,\n",
       "  'XCD': 2.70255,\n",
       "  'XDR': 0.751318,\n",
       "  'XOF': 602.162459,\n",
       "  'XPD': 0.00106466,\n",
       "  'XPF': 109.545436,\n",
       "  'XPT': 0.00102034,\n",
       "  'YER': 246.799985,\n",
       "  'ZAR': 18.3353,\n",
       "  'ZMW': 28.590947,\n",
       "  'ZWL': 322}}"
      ]
     },
     "execution_count": 12,
     "metadata": {},
     "output_type": "execute_result"
    }
   ],
   "execution_count": 12
  }
 ],
 "metadata": {
  "kernelspec": {
   "display_name": "Python 3",
   "language": "python",
   "name": "python3"
  },
  "language_info": {
   "codemirror_mode": {
    "name": "ipython",
    "version": 2
   },
   "file_extension": ".py",
   "mimetype": "text/x-python",
   "name": "python",
   "nbconvert_exporter": "python",
   "pygments_lexer": "ipython2",
   "version": "2.7.6"
  }
 },
 "nbformat": 4,
 "nbformat_minor": 5
}
