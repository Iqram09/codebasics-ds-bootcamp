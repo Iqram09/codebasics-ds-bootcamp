{
 "cells": [
  {
   "cell_type": "code",
   "id": "initial_id",
   "metadata": {
    "collapsed": true,
    "ExecuteTime": {
     "end_time": "2025-02-10T17:11:45.070816Z",
     "start_time": "2025-02-10T17:11:45.057845Z"
    }
   },
   "source": [
    "number = [1,2,3,4,5]\n",
    "sqr_no =[]\n",
    "\n",
    "for i in number:\n",
    "    sqr_no.append(i*i)\n",
    "\n",
    "sqr_no\n"
   ],
   "outputs": [
    {
     "data": {
      "text/plain": [
       "[1, 4, 9, 16, 25]"
      ]
     },
     "execution_count": 1,
     "metadata": {},
     "output_type": "execute_result"
    }
   ],
   "execution_count": 1
  },
  {
   "metadata": {
    "ExecuteTime": {
     "end_time": "2025-02-10T17:18:32.984975Z",
     "start_time": "2025-02-10T17:18:32.977865Z"
    }
   },
   "cell_type": "code",
   "source": [
    "sqr_no = [i*i for i in number]\n",
    "sqr_no"
   ],
   "id": "a1f05d8bdeaba60d",
   "outputs": [
    {
     "data": {
      "text/plain": [
       "[1, 4, 9, 16, 25]"
      ]
     },
     "execution_count": 2,
     "metadata": {},
     "output_type": "execute_result"
    }
   ],
   "execution_count": 2
  },
  {
   "metadata": {
    "ExecuteTime": {
     "end_time": "2025-02-10T20:00:10.154659Z",
     "start_time": "2025-02-10T20:00:10.022114Z"
    }
   },
   "cell_type": "code",
   "source": [
    "import time\n",
    "list = range(1000000)\n",
    "sqr_lis = []\n",
    "\n",
    "start = time.time()\n",
    "for i in list:\n",
    "    sqr_lis.append(i*i)\n",
    "end = time.time()\n",
    "\"Time elapsed\", end-start"
   ],
   "id": "9ef2f17423d5bf88",
   "outputs": [
    {
     "data": {
      "text/plain": [
       "('Time elapsed', 0.110931396484375)"
      ]
     },
     "execution_count": 10,
     "metadata": {},
     "output_type": "execute_result"
    }
   ],
   "execution_count": 10
  },
  {
   "metadata": {
    "ExecuteTime": {
     "end_time": "2025-02-10T20:00:11.562772Z",
     "start_time": "2025-02-10T20:00:11.473033Z"
    }
   },
   "cell_type": "code",
   "source": [
    "start = time.time()\n",
    "sqr_lis =[i*i for i in list]\n",
    "end = time.time()\n",
    "\"Time elapsed\", end-start"
   ],
   "id": "26e4decf34e2c649",
   "outputs": [
    {
     "data": {
      "text/plain": [
       "('Time elapsed', 0.08313751220703125)"
      ]
     },
     "execution_count": 11,
     "metadata": {},
     "output_type": "execute_result"
    }
   ],
   "execution_count": 11
  },
  {
   "metadata": {},
   "cell_type": "code",
   "outputs": [],
   "execution_count": null,
   "source": "",
   "id": "c666a4c607fe928c"
  },
  {
   "metadata": {
    "ExecuteTime": {
     "end_time": "2025-02-10T20:03:56.985079Z",
     "start_time": "2025-02-10T20:03:56.981951Z"
    }
   },
   "cell_type": "code",
   "source": [
    "price = [100,120,80,50]\n",
    "earning_share = [9,15,40,2]"
   ],
   "id": "6edba9c74bd1a3d5",
   "outputs": [],
   "execution_count": 12
  },
  {
   "metadata": {
    "ExecuteTime": {
     "end_time": "2025-02-10T20:04:11.171281Z",
     "start_time": "2025-02-10T20:04:11.166817Z"
    }
   },
   "cell_type": "code",
   "source": "tuple(zip(price,earning_share))",
   "id": "70413ca335ae65c0",
   "outputs": [
    {
     "data": {
      "text/plain": [
       "((100, 9), (120, 15), (80, 40), (50, 2))"
      ]
     },
     "execution_count": 13,
     "metadata": {},
     "output_type": "execute_result"
    }
   ],
   "execution_count": 13
  },
  {
   "metadata": {
    "ExecuteTime": {
     "end_time": "2025-02-10T20:05:03.857330Z",
     "start_time": "2025-02-10T20:05:03.853738Z"
    }
   },
   "cell_type": "code",
   "source": [
    "pe = [p/e for p,e in zip(price,earning_share)]\n",
    "pe"
   ],
   "id": "c9a8bce9b2d8d99b",
   "outputs": [
    {
     "data": {
      "text/plain": [
       "[11.11111111111111, 8.0, 2.0, 25.0]"
      ]
     },
     "execution_count": 14,
     "metadata": {},
     "output_type": "execute_result"
    }
   ],
   "execution_count": 14
  },
  {
   "metadata": {
    "ExecuteTime": {
     "end_time": "2025-02-10T20:06:54.013583Z",
     "start_time": "2025-02-10T20:06:54.006858Z"
    }
   },
   "cell_type": "code",
   "source": [
    "price = [100,120,80,50]\n",
    "earning_share = [0,15,40,2]\n",
    "pe = [p/e if e!=0 else -1 for p,e in zip(price,earning_share)]\n",
    "pe"
   ],
   "id": "82535b1e1764efa4",
   "outputs": [
    {
     "data": {
      "text/plain": [
       "[-1, 8.0, 2.0, 25.0]"
      ]
     },
     "execution_count": 16,
     "metadata": {},
     "output_type": "execute_result"
    }
   ],
   "execution_count": 16
  },
  {
   "metadata": {
    "ExecuteTime": {
     "end_time": "2025-02-10T20:10:22.882899Z",
     "start_time": "2025-02-10T20:10:22.878645Z"
    }
   },
   "cell_type": "code",
   "source": [
    "words = [\"apple\",\"banana\",\"orange\",\"apple\"]\n",
    "[len(word) for word in words]"
   ],
   "id": "8987ffdb4dc7d27f",
   "outputs": [
    {
     "data": {
      "text/plain": [
       "[5, 6, 6, 5]"
      ]
     },
     "execution_count": 23,
     "metadata": {},
     "output_type": "execute_result"
    }
   ],
   "execution_count": 23
  },
  {
   "metadata": {
    "ExecuteTime": {
     "end_time": "2025-02-10T20:14:15.576314Z",
     "start_time": "2025-02-10T20:14:15.572069Z"
    }
   },
   "cell_type": "code",
   "source": [
    "prices = [120,99,150,80,200]\n",
    "\n",
    "new_prices = [price*0.9 if price>100 else price for price in prices]\n",
    "new_prices"
   ],
   "id": "b33b723b81427554",
   "outputs": [
    {
     "data": {
      "text/plain": [
       "[108.0, 99, 135.0, 80, 180.0]"
      ]
     },
     "execution_count": 24,
     "metadata": {},
     "output_type": "execute_result"
    }
   ],
   "execution_count": 24
  },
  {
   "metadata": {},
   "cell_type": "code",
   "outputs": [],
   "execution_count": null,
   "source": "",
   "id": "72bf5cb0e928a962"
  },
  {
   "metadata": {
    "ExecuteTime": {
     "end_time": "2025-02-10T20:16:10.313952Z",
     "start_time": "2025-02-10T20:16:10.309438Z"
    }
   },
   "cell_type": "code",
   "source": [
    "transactions = [\n",
    "    {\"customer_name\": \"Aarav\", \"amount\": 120.5, \"date\": \"2024-10-15\"},\n",
    "    {\"customer_name\": \"Fatima\", \"amount\": 45.7, \"date\": \"2024-10-18\"},\n",
    "    {\"customer_name\": \"Aarav\", \"amount\": 78.9, \"date\": \"2024-11-01\"},\n",
    "    {\"customer_name\": \"Zoya\", \"amount\": 99.3, \"date\": \"2024-11-05\"},\n",
    "    {\"customer_name\": \"Fatima\", \"amount\": 150.2, \"date\": \"2024-11-10\"},\n",
    "    {\"customer_name\": \"Ibrahim\", \"amount\": 60.0, \"date\": \"2024-11-12\"},\n",
    "]\n"
   ],
   "id": "910004999f49a630",
   "outputs": [],
   "execution_count": 25
  },
  {
   "metadata": {
    "ExecuteTime": {
     "end_time": "2025-02-10T20:18:11.233437Z",
     "start_time": "2025-02-10T20:18:11.228946Z"
    }
   },
   "cell_type": "code",
   "source": [
    "customers = {trans['customer_name'] for trans in transactions}\n",
    "customers"
   ],
   "id": "c4674f773b9621f3",
   "outputs": [
    {
     "data": {
      "text/plain": [
       "{'Aarav', 'Fatima', 'Ibrahim', 'Zoya'}"
      ]
     },
     "execution_count": 32,
     "metadata": {},
     "output_type": "execute_result"
    }
   ],
   "execution_count": 32
  },
  {
   "metadata": {
    "ExecuteTime": {
     "end_time": "2025-02-10T20:18:26.616261Z",
     "start_time": "2025-02-10T20:18:26.611869Z"
    }
   },
   "cell_type": "code",
   "source": [
    "    customers = set()\n",
    "\n",
    "for transaction in transactions:\n",
    "    customers.add(transaction[\"customer_name\"])\n",
    "customers"
   ],
   "id": "9f78a8d75b9dc2b",
   "outputs": [
    {
     "data": {
      "text/plain": [
       "{'Aarav', 'Fatima', 'Ibrahim', 'Zoya'}"
      ]
     },
     "execution_count": 33,
     "metadata": {},
     "output_type": "execute_result"
    }
   ],
   "execution_count": 33
  },
  {
   "metadata": {},
   "cell_type": "code",
   "outputs": [],
   "execution_count": null,
   "source": "",
   "id": "de20f2f5fb154f03"
  }
 ],
 "metadata": {
  "kernelspec": {
   "display_name": "Python 3",
   "language": "python",
   "name": "python3"
  },
  "language_info": {
   "codemirror_mode": {
    "name": "ipython",
    "version": 2
   },
   "file_extension": ".py",
   "mimetype": "text/x-python",
   "name": "python",
   "nbconvert_exporter": "python",
   "pygments_lexer": "ipython2",
   "version": "2.7.6"
  }
 },
 "nbformat": 4,
 "nbformat_minor": 5
}
