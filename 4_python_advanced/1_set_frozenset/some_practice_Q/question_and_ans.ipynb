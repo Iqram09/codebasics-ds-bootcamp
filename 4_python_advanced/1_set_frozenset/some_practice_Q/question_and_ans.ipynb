{
 "cells": [
  {
   "metadata": {},
   "cell_type": "markdown",
   "source": "**Here are some question by chat GPT**",
   "id": "ee5bed05768fcb21"
  },
  {
   "metadata": {},
   "cell_type": "markdown",
   "source": "1️⃣ Create a set with the numbers {1, 2, 3, 4, 5}. Add 6 to it and remove 2. Print the final set.",
   "id": "9291c7df12774978"
  },
  {
   "metadata": {
    "ExecuteTime": {
     "end_time": "2025-02-10T09:25:55.025283Z",
     "start_time": "2025-02-10T09:25:55.020777Z"
    }
   },
   "cell_type": "code",
   "source": [
    "my_set = {1, 2, 3, 4, 5}\n",
    "my_set.add(6)\n",
    "my_set"
   ],
   "id": "f8f6d84f5ae46411",
   "outputs": [
    {
     "data": {
      "text/plain": [
       "{1, 2, 3, 4, 5, 6}"
      ]
     },
     "execution_count": 12,
     "metadata": {},
     "output_type": "execute_result"
    }
   ],
   "execution_count": 12
  },
  {
   "metadata": {},
   "cell_type": "raw",
   "source": "2️⃣ Create two sets:",
   "id": "d8792a4ff51f94ee"
  },
  {
   "metadata": {
    "ExecuteTime": {
     "end_time": "2025-02-10T09:25:55.045181Z",
     "start_time": "2025-02-10T09:25:55.041685Z"
    }
   },
   "cell_type": "code",
   "source": [
    "A = {2, 4, 6, 8, 10}\n",
    "B = {1, 2, 3, 4, 5}"
   ],
   "id": "3528da0d061eb246",
   "outputs": [],
   "execution_count": 13
  },
  {
   "metadata": {},
   "cell_type": "markdown",
   "source": "Find their union",
   "id": "ebe4626ee77d63ae"
  },
  {
   "metadata": {
    "ExecuteTime": {
     "end_time": "2025-02-10T09:25:55.057606Z",
     "start_time": "2025-02-10T09:25:55.053298Z"
    }
   },
   "cell_type": "code",
   "source": [
    "C = A.union(B)\n",
    "C"
   ],
   "id": "d9e5faf334ddc64b",
   "outputs": [
    {
     "data": {
      "text/plain": [
       "{1, 2, 3, 4, 5, 6, 8, 10}"
      ]
     },
     "execution_count": 14,
     "metadata": {},
     "output_type": "execute_result"
    }
   ],
   "execution_count": 14
  },
  {
   "metadata": {},
   "cell_type": "raw",
   "source": "Find their intersection.",
   "id": "b5f054cb6c7b908c"
  },
  {
   "metadata": {
    "ExecuteTime": {
     "end_time": "2025-02-10T09:25:55.080920Z",
     "start_time": "2025-02-10T09:25:55.077398Z"
    }
   },
   "cell_type": "code",
   "source": [
    "C = A.intersection(B)\n",
    "C"
   ],
   "id": "5cd8279dea290a8c",
   "outputs": [
    {
     "data": {
      "text/plain": [
       "{2, 4}"
      ]
     },
     "execution_count": 15,
     "metadata": {},
     "output_type": "execute_result"
    }
   ],
   "execution_count": 15
  },
  {
   "metadata": {},
   "cell_type": "raw",
   "source": "Find the difference of A - B.",
   "id": "beb1fc2a6f0ffee1"
  },
  {
   "metadata": {
    "ExecuteTime": {
     "end_time": "2025-02-10T09:25:55.107237Z",
     "start_time": "2025-02-10T09:25:55.103146Z"
    }
   },
   "cell_type": "code",
   "source": [
    "C = A.difference(B)\n",
    "C"
   ],
   "id": "ac5ecdaa331ddeb2",
   "outputs": [
    {
     "data": {
      "text/plain": [
       "{6, 8, 10}"
      ]
     },
     "execution_count": 16,
     "metadata": {},
     "output_type": "execute_result"
    }
   ],
   "execution_count": 16
  },
  {
   "metadata": {},
   "cell_type": "markdown",
   "source": "Find the symmetric difference.",
   "id": "275275fa8a06a44b"
  },
  {
   "metadata": {
    "ExecuteTime": {
     "end_time": "2025-02-10T09:25:55.132238Z",
     "start_time": "2025-02-10T09:25:55.128007Z"
    }
   },
   "cell_type": "code",
   "source": [
    "C = A.symmetric_difference(B)\n",
    "C"
   ],
   "id": "7c90bab2c038ea57",
   "outputs": [
    {
     "data": {
      "text/plain": [
       "{1, 3, 5, 6, 8, 10}"
      ]
     },
     "execution_count": 17,
     "metadata": {},
     "output_type": "execute_result"
    }
   ],
   "execution_count": 17
  },
  {
   "metadata": {},
   "cell_type": "markdown",
   "source": "**Intermediate Questions**",
   "id": "b0f27f281bac12fe"
  },
  {
   "metadata": {},
   "cell_type": "markdown",
   "source": "4️⃣ You have two classes:",
   "id": "b2f3b05723f997dd"
  },
  {
   "metadata": {
    "ExecuteTime": {
     "end_time": "2025-02-10T09:25:55.157925Z",
     "start_time": "2025-02-10T09:25:55.154840Z"
    }
   },
   "cell_type": "code",
   "source": [
    "tennis_class = {\"John\", \"Emma\", \"Sophia\", \"Michael\", \"David\"}\n",
    "volleyball_class = {\"Sophia\", \"David\", \"James\", \"Emma\", \"Olivia\"}"
   ],
   "id": "36d473ff01c7aa6b",
   "outputs": [],
   "execution_count": 18
  },
  {
   "metadata": {},
   "cell_type": "markdown",
   "source": "Find the students who are enrolled in both sports",
   "id": "156742e922b4221c"
  },
  {
   "metadata": {
    "ExecuteTime": {
     "end_time": "2025-02-10T09:25:55.242500Z",
     "start_time": "2025-02-10T09:25:55.238409Z"
    }
   },
   "cell_type": "code",
   "source": [
    "Students_enrolled = tennis_class.intersection(volleyball_class)\n",
    "Students_enrolled"
   ],
   "id": "bffda13e778b4220",
   "outputs": [
    {
     "data": {
      "text/plain": [
       "{'David', 'Emma', 'Sophia'}"
      ]
     },
     "execution_count": 19,
     "metadata": {},
     "output_type": "execute_result"
    }
   ],
   "execution_count": 19
  },
  {
   "metadata": {},
   "cell_type": "markdown",
   "source": "Find the students who are only in tennis but not volleyball.",
   "id": "c66e2a2a076c4ed0"
  },
  {
   "metadata": {
    "ExecuteTime": {
     "end_time": "2025-02-10T09:26:00.979987Z",
     "start_time": "2025-02-10T09:26:00.975813Z"
    }
   },
   "cell_type": "code",
   "source": [
    "Students_Tennis_only = tennis_class.difference(volleyball_class)\n",
    "Students_Tennis_only"
   ],
   "id": "34e57a3c3e8b2ece",
   "outputs": [
    {
     "data": {
      "text/plain": [
       "{'John', 'Michael'}"
      ]
     },
     "execution_count": 21,
     "metadata": {},
     "output_type": "execute_result"
    }
   ],
   "execution_count": 21
  },
  {
   "metadata": {},
   "cell_type": "markdown",
   "source": "Find all students enrolled in at least one sport.",
   "id": "285a488a2afaf2d8"
  },
  {
   "metadata": {
    "ExecuteTime": {
     "end_time": "2025-02-10T09:28:08.465698Z",
     "start_time": "2025-02-10T09:28:08.460979Z"
    }
   },
   "cell_type": "code",
   "source": [
    "Students_Only_one_sport = tennis_class.union(volleyball_class)\n",
    "Students_Only_one_sport"
   ],
   "id": "9d0ee8edbe65508b",
   "outputs": [
    {
     "data": {
      "text/plain": [
       "{'David', 'Emma', 'James', 'John', 'Michael', 'Olivia', 'Sophia'}"
      ]
     },
     "execution_count": 23,
     "metadata": {},
     "output_type": "execute_result"
    }
   ],
   "execution_count": 23
  },
  {
   "metadata": {},
   "cell_type": "markdown",
   "source": " 5️⃣ Use a frozenset to store the following immutable group of cities:",
   "id": "d00ae958dbaee10c"
  },
  {
   "metadata": {
    "ExecuteTime": {
     "end_time": "2025-02-10T09:29:38.651689Z",
     "start_time": "2025-02-10T09:29:38.648198Z"
    }
   },
   "cell_type": "code",
   "source": "cities = [\"New York\", \"Los Angeles\", \"Chicago\", \"Houston\", \"Phoenix\"]",
   "id": "1ab39ab1861620f",
   "outputs": [],
   "execution_count": 24
  },
  {
   "metadata": {},
   "cell_type": "markdown",
   "source": "Convert it into a frozenset.",
   "id": "96aedea402fc0ae6"
  },
  {
   "metadata": {
    "ExecuteTime": {
     "end_time": "2025-02-10T09:30:24.113130Z",
     "start_time": "2025-02-10T09:30:24.109419Z"
    }
   },
   "cell_type": "code",
   "source": [
    "Frozens = frozenset(cities)\n",
    "Frozens"
   ],
   "id": "b3b48f7048fa0a6f",
   "outputs": [
    {
     "data": {
      "text/plain": [
       "frozenset({'Chicago', 'Houston', 'Los Angeles', 'New York', 'Phoenix'})"
      ]
     },
     "execution_count": 26,
     "metadata": {},
     "output_type": "execute_result"
    }
   ],
   "execution_count": 26
  },
  {
   "metadata": {},
   "cell_type": "markdown",
   "source": "Try adding a new city \"Miami\" (What happens?).",
   "id": "5fdc6e877381450c"
  },
  {
   "metadata": {
    "ExecuteTime": {
     "end_time": "2025-02-10T09:31:00.138680Z",
     "start_time": "2025-02-10T09:31:00.117311Z"
    }
   },
   "cell_type": "code",
   "source": "Frozens.add(\"Miami\")",
   "id": "ed821fd7c4bfec4",
   "outputs": [
    {
     "ename": "AttributeError",
     "evalue": "'frozenset' object has no attribute 'add'",
     "output_type": "error",
     "traceback": [
      "\u001B[1;31m---------------------------------------------------------------------------\u001B[0m",
      "\u001B[1;31mAttributeError\u001B[0m                            Traceback (most recent call last)",
      "Cell \u001B[1;32mIn[27], line 1\u001B[0m\n\u001B[1;32m----> 1\u001B[0m \u001B[43mFrozens\u001B[49m\u001B[38;5;241;43m.\u001B[39;49m\u001B[43madd\u001B[49m(\u001B[38;5;124m\"\u001B[39m\u001B[38;5;124mMiami\u001B[39m\u001B[38;5;124m\"\u001B[39m)\n",
      "\u001B[1;31mAttributeError\u001B[0m: 'frozenset' object has no attribute 'add'"
     ]
    }
   ],
   "execution_count": 27
  },
  {
   "metadata": {},
   "cell_type": "markdown",
   "source": "**Advanced Challenges**",
   "id": "c429d2437eba54c"
  },
  {
   "metadata": {},
   "cell_type": "markdown",
   "source": "6️⃣ You are given two sets representing students who completed Python and Data Science courses:\n",
   "id": "e0aa079988bf23f"
  },
  {
   "metadata": {
    "ExecuteTime": {
     "end_time": "2025-02-10T09:32:03.131388Z",
     "start_time": "2025-02-10T09:32:03.127937Z"
    }
   },
   "cell_type": "code",
   "source": [
    "python_students = {\"Alice\", \"Bob\", \"Charlie\", \"David\"}\n",
    "ds_students = {\"Charlie\", \"Eve\", \"Alice\", \"Frank\"}"
   ],
   "id": "b4f36fa79841e133",
   "outputs": [],
   "execution_count": 28
  },
  {
   "metadata": {},
   "cell_type": "markdown",
   "source": "Find students who completed both courses.",
   "id": "4183a00b366f631b"
  },
  {
   "metadata": {
    "ExecuteTime": {
     "end_time": "2025-02-10T09:33:26.995032Z",
     "start_time": "2025-02-10T09:33:26.990092Z"
    }
   },
   "cell_type": "code",
   "source": [
    "Students_both_course = python_students.intersection(ds_students)\n",
    "Students_both_course"
   ],
   "id": "a03b2a205ddcbcce",
   "outputs": [
    {
     "data": {
      "text/plain": [
       "{'Alice', 'Charlie'}"
      ]
     },
     "execution_count": 29,
     "metadata": {},
     "output_type": "execute_result"
    }
   ],
   "execution_count": 29
  },
  {
   "metadata": {},
   "cell_type": "markdown",
   "source": "Find students who completed only one of the two courses.",
   "id": "ef8128b1e8622f38"
  },
  {
   "metadata": {
    "ExecuteTime": {
     "end_time": "2025-02-10T09:37:07.354446Z",
     "start_time": "2025-02-10T09:37:07.349927Z"
    }
   },
   "cell_type": "code",
   "source": [
    "Students_one_course = python_students.symmetric_difference(ds_students)\n",
    "Students_one_course"
   ],
   "id": "b7c1cf49c4caaf63",
   "outputs": [
    {
     "data": {
      "text/plain": [
       "{'Bob', 'David', 'Eve', 'Frank'}"
      ]
     },
     "execution_count": 30,
     "metadata": {},
     "output_type": "execute_result"
    }
   ],
   "execution_count": 30
  },
  {
   "metadata": {},
   "cell_type": "markdown",
   "source": "Find students who only completed Python.",
   "id": "458ac2d18ce27025"
  },
  {
   "metadata": {
    "ExecuteTime": {
     "end_time": "2025-02-10T09:38:13.486371Z",
     "start_time": "2025-02-10T09:38:13.482444Z"
    }
   },
   "cell_type": "code",
   "source": [
    "Students_only_python = python_students.difference(set(ds_students))\n",
    "Students_only_python"
   ],
   "id": "4e2b36a8dc65ebe0",
   "outputs": [
    {
     "data": {
      "text/plain": [
       "{'Bob', 'David'}"
      ]
     },
     "execution_count": 31,
     "metadata": {},
     "output_type": "execute_result"
    }
   ],
   "execution_count": 31
  },
  {
   "metadata": {},
   "cell_type": "markdown",
   "source": [
    "7️⃣ Dictionary with Frozenset Keys\n",
    "You are given employee data with their skills. Since skills should be immutable, use a frozenset as a key:"
   ],
   "id": "4b6d3359c3f3e936"
  },
  {
   "metadata": {
    "ExecuteTime": {
     "end_time": "2025-02-10T09:41:22.236073Z",
     "start_time": "2025-02-10T09:41:22.230994Z"
    }
   },
   "cell_type": "code",
   "source": [
    "employees = {\n",
    "    frozenset([\"Python\", \"Data Science\"]): \"Alice\",\n",
    "    frozenset([\"Java\", \"Spring\"]): \"Bob\",\n",
    "    frozenset([\"C++\", \"Game Development\"]): \"Charlie\"\n",
    "}\n"
   ],
   "id": "e5c2e5a87a6db832",
   "outputs": [],
   "execution_count": 36
  },
  {
   "metadata": {},
   "cell_type": "markdown",
   "source": "Retrieve the employee who knows Java and Spring",
   "id": "1ffe51274f3c0f2d"
  },
  {
   "metadata": {
    "ExecuteTime": {
     "end_time": "2025-02-10T09:43:27.146731Z",
     "start_time": "2025-02-10T09:43:27.142944Z"
    }
   },
   "cell_type": "code",
   "source": "print(\"The person who know Java and Spring is\",\"\".join(employees[frozenset([\"Java\", \"Spring\"])]))",
   "id": "eeb57b42d9289bd8",
   "outputs": [
    {
     "name": "stdout",
     "output_type": "stream",
     "text": [
      "The person who know Java and Spring is Bob\n"
     ]
    }
   ],
   "execution_count": 39
  }
 ],
 "metadata": {
  "kernelspec": {
   "display_name": "Python 3",
   "language": "python",
   "name": "python3"
  },
  "language_info": {
   "codemirror_mode": {
    "name": "ipython",
    "version": 2
   },
   "file_extension": ".py",
   "mimetype": "text/x-python",
   "name": "python",
   "nbconvert_exporter": "python",
   "pygments_lexer": "ipython2",
   "version": "2.7.6"
  }
 },
 "nbformat": 4,
 "nbformat_minor": 5
}
