{
 "cells": [
  {
   "metadata": {},
   "cell_type": "markdown",
   "source": "**Here are some question by chat GPT**",
   "id": "ee5bed05768fcb21"
  },
  {
   "metadata": {},
   "cell_type": "markdown",
   "source": "1️⃣ Create a set with the numbers {1, 2, 3, 4, 5}. Add 6 to it and remove 2. Print the final set.",
   "id": "9291c7df12774978"
  },
  {
   "metadata": {
    "ExecuteTime": {
     "end_time": "2025-02-10T09:12:01.386625Z",
     "start_time": "2025-02-10T09:12:01.381574Z"
    }
   },
   "cell_type": "code",
   "source": [
    "my_set = {1, 2, 3, 4, 5}\n",
    "my_set.add(6)\n",
    "my_set"
   ],
   "id": "f8f6d84f5ae46411",
   "outputs": [
    {
     "data": {
      "text/plain": [
       "{1, 2, 3, 4, 5, 6}"
      ]
     },
     "execution_count": 17,
     "metadata": {},
     "output_type": "execute_result"
    }
   ],
   "execution_count": 17
  },
  {
   "metadata": {},
   "cell_type": "raw",
   "source": "2️⃣ Create two sets:",
   "id": "d8792a4ff51f94ee"
  },
  {
   "metadata": {
    "ExecuteTime": {
     "end_time": "2025-02-10T09:12:02.553201Z",
     "start_time": "2025-02-10T09:12:02.549793Z"
    }
   },
   "cell_type": "code",
   "source": [
    "A = {2, 4, 6, 8, 10}\n",
    "B = {1, 2, 3, 4, 5}"
   ],
   "id": "3528da0d061eb246",
   "outputs": [],
   "execution_count": 18
  },
  {
   "metadata": {},
   "cell_type": "markdown",
   "source": "Find their union",
   "id": "ebe4626ee77d63ae"
  },
  {
   "metadata": {
    "ExecuteTime": {
     "end_time": "2025-02-10T09:13:14.849555Z",
     "start_time": "2025-02-10T09:13:14.844755Z"
    }
   },
   "cell_type": "code",
   "source": [
    "C = A.union(B)\n",
    "C"
   ],
   "id": "d9e5faf334ddc64b",
   "outputs": [
    {
     "data": {
      "text/plain": [
       "{1, 2, 3, 4, 5, 6, 8, 10}"
      ]
     },
     "execution_count": 19,
     "metadata": {},
     "output_type": "execute_result"
    }
   ],
   "execution_count": 19
  },
  {
   "metadata": {},
   "cell_type": "raw",
   "source": "Find their intersection.",
   "id": "b5f054cb6c7b908c"
  },
  {
   "metadata": {
    "ExecuteTime": {
     "end_time": "2025-02-10T09:13:53.230438Z",
     "start_time": "2025-02-10T09:13:53.226003Z"
    }
   },
   "cell_type": "code",
   "source": [
    "C = A.intersection(B)\n",
    "C"
   ],
   "id": "5cd8279dea290a8c",
   "outputs": [
    {
     "data": {
      "text/plain": [
       "{2, 4}"
      ]
     },
     "execution_count": 20,
     "metadata": {},
     "output_type": "execute_result"
    }
   ],
   "execution_count": 20
  },
  {
   "metadata": {},
   "cell_type": "raw",
   "source": "Find the difference of A - B.",
   "id": "beb1fc2a6f0ffee1"
  },
  {
   "metadata": {
    "ExecuteTime": {
     "end_time": "2025-02-10T09:14:14.475874Z",
     "start_time": "2025-02-10T09:14:14.470886Z"
    }
   },
   "cell_type": "code",
   "source": [
    "C = A.difference(B)\n",
    "C"
   ],
   "id": "ac5ecdaa331ddeb2",
   "outputs": [
    {
     "data": {
      "text/plain": [
       "{6, 8, 10}"
      ]
     },
     "execution_count": 21,
     "metadata": {},
     "output_type": "execute_result"
    }
   ],
   "execution_count": 21
  },
  {
   "metadata": {},
   "cell_type": "markdown",
   "source": "Find the symmetric difference.",
   "id": "275275fa8a06a44b"
  },
  {
   "metadata": {
    "ExecuteTime": {
     "end_time": "2025-02-10T09:15:15.076753Z",
     "start_time": "2025-02-10T09:15:15.071411Z"
    }
   },
   "cell_type": "code",
   "source": [
    "C = A.symmetric_difference(B)\n",
    "C"
   ],
   "id": "7c90bab2c038ea57",
   "outputs": [
    {
     "data": {
      "text/plain": [
       "{1, 3, 5, 6, 8, 10}"
      ]
     },
     "execution_count": 22,
     "metadata": {},
     "output_type": "execute_result"
    }
   ],
   "execution_count": 22
  }
 ],
 "metadata": {
  "kernelspec": {
   "display_name": "Python 3",
   "language": "python",
   "name": "python3"
  },
  "language_info": {
   "codemirror_mode": {
    "name": "ipython",
    "version": 2
   },
   "file_extension": ".py",
   "mimetype": "text/x-python",
   "name": "python",
   "nbconvert_exporter": "python",
   "pygments_lexer": "ipython2",
   "version": "2.7.6"
  }
 },
 "nbformat": 4,
 "nbformat_minor": 5
}
