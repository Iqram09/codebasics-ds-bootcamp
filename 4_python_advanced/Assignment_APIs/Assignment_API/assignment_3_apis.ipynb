{
 "cells": [
  {
   "cell_type": "markdown",
   "id": "627bc77b",
   "metadata": {},
   "source": [
    "<h2 align=\"center\" style=\"color:blue\">Codebasics Python Course: Exercise - APIs in Python</h2>"
   ]
  },
  {
   "cell_type": "markdown",
   "id": "9af20118",
   "metadata": {},
   "source": [
    "The Open Brewery DB API offers detailed data on various breweries across the United States. \n",
    "\n",
    "--\n",
    "\n",
    "### Task 1: Fetch Brewery Data for Non-alcoholic Drink manufacturer - US client\n",
    "\n",
    "**Scenario:**\n",
    "\n",
    "As Tony Sharma mentioned during the call, he needs details about all the breweries in a specific state.\n",
    "\n",
    "Your task is to use the Open Brewery DB API to fetch and display brewery details based on a given state, which will be helpful for his client call tomorrow.\n",
    "\n",
    "**Write a Python program that:**\n",
    "\n",
    "1. Uses the `requests` library to call the Open Brewery DB API to fetch brewery data based on a given state.\n",
    "2. Parses the JSON response.\n",
    "3. Extracts and displays the name, type, and location (city) of each brewery.\n",
    "4. Handles errors gracefully (e.g., network issues or invalid API requests).\n",
    "\n",
    "Example URL for Texas Breweries: `https://api.openbrewerydb.org/breweries?by_state=texas`"
   ]
  },
  {
   "cell_type": "code",
   "id": "fb8e0c48",
   "metadata": {
    "ExecuteTime": {
     "end_time": "2025-03-19T01:46:04.173230Z",
     "start_time": "2025-03-19T01:46:02.621966Z"
    }
   },
   "source": [
    "\n",
    "import requests\n",
    "# Function to fetch brewery details from Open Brewery DB API\n",
    "def fetch_breweries_by_state(state):\n",
    "    url = f\"https://api.openbrewerydb.org/v1/breweries?by_state={state}\"\n",
    "    response = requests.get(url)\n",
    "\n",
    "    if response.status_code == 200:\n",
    "        data = response.json()\n",
    "        if data:  # Check if the list is not empty\n",
    "            return data\n",
    "        else:\n",
    "            print(f\"No breweries found in {state}.\")\n",
    "            return None\n",
    "    else:\n",
    "        print(f\"Error: {response.status_code}\")\n",
    "        return None\n",
    "\n",
    "# Example usage\n",
    "state = \"California\"  # Change this to the required state\n",
    "breweries_df = fetch_breweries_by_state(state)\n",
    "\n",
    "# Display the fetched data\n",
    "print(f\"Breweries in {state}:\")\n",
    "for brewery in breweries_df:\n",
    "    name = brewery['name']\n",
    "    brew_type = brewery['brewery_type']\n",
    "    location = f\"{brewery['city']}, {brewery['state']}\"\n",
    "    print(f\"- {name} ({brew_type}) located in {location}\")  # Show first few records\n"
   ],
   "outputs": [
    {
     "name": "stdout",
     "output_type": "stream",
     "text": [
      "Breweries in California:\n",
      "- 10 Barrel Brewing Co (large) located in San Diego, California\n",
      "- 101 North Brewing Company (closed) located in Petaluma, California\n",
      "- 14 Cannons Brewing Company (micro) located in Westlake Village, California\n",
      "- 1850 Brewing Company (micro) located in Mariposa, California\n",
      "- 2 Tread Brewing Co (brewpub) located in Santa Rosa, California\n",
      "- 21st Amendment Brewery (regional) located in San Leandro, California\n",
      "- 21st Amendment Brewery Cafe (brewpub) located in San Francisco, California\n",
      "- 2Kids Brewing Company (micro) located in San Diego, California\n",
      "- 3 Disciples Brewing (micro) located in Sebastopol, California\n",
      "- 3 Iron Brewing Company (micro) located in Colton, California\n",
      "- 32 North Brewing Co (brewpub) located in San Diego, California\n",
      "- 411 Broadway Ales (planning) located in Fresno, California\n",
      "- 47 Hills Brewing Co (brewpub) located in South San Francisco, California\n",
      "- 5150 Brewing At The Brass Tap Rocklin (micro) located in Rocklin, California\n",
      "- 559 Local Brewing (micro) located in Clovis, California\n",
      "- 6th and La Brea (brewpub) located in Los Angeles, California\n",
      "- 7 Sisters Brewing Co (brewpub) located in San Luis Obispo, California\n",
      "- 8 Bit Brewing Company (brewpub) located in Murrieta, California\n",
      "- 8one8 Brewing Company (micro) located in Canoga Park, California\n",
      "- 927 Beer Company (micro) located in Cambria, California\n",
      "- Abigaile (brewpub) located in Hermosa Beach, California\n",
      "- Abnormal Beer Company (micro) located in San Diego, California\n",
      "- Absolution Brewing Co (micro) located in Torrance, California\n",
      "- Absolution By the Sea (brewpub) located in La Jolla, California\n",
      "- Acoustic Ales Brewing Experiment (closed) located in San Diego, California\n",
      "- Adobe Creek Brewing Company (micro) located in Novato, California\n",
      "- Aftershock Brewing Co (micro) located in Temecula, California\n",
      "- Alameda Island Brewing Company (micro) located in Alameda, California\n",
      "- Alaro Craft Brewery (brewpub) located in Sacramento, California\n",
      "- Ale House Brewing Co (micro) located in San Jose, California\n",
      "- Ale Industries (micro) located in Oakland, California\n",
      "- AleSmith Brewing Co (regional) located in San Diego, California\n",
      "- Align Brewing Co (micro) located in San Diego, California\n",
      "- All-American Ale Works (micro) located in Anaheim, California\n",
      "- Almanac Beer Company (micro) located in Alameda, California\n",
      "- Alosta Brewing Co (micro) located in Covina, California\n",
      "- Alpenglow Beer Co (contract) located in Lafayette, California\n",
      "- Alpha Acid Brewing Co (micro) located in Belmont, California\n",
      "- Alpine Beer Company (brewpub) located in San Diego, California\n",
      "- Alta Brewing Company (micro) located in San Diego, California\n",
      "- Altamont Beer Works (micro) located in Livermore, California\n",
      "- Alvarado Street Brewery (micro) located in Salinas, California\n",
      "- Alvarado Street Brewery & Grill (brewpub) located in Monterey, California\n",
      "- Amador Brewing Company (micro) located in Plymouth, California\n",
      "- Ambitious Ales (planning) located in Long Beach, California\n",
      "- Amplified Ale Works (brewpub) located in San Diego, California\n",
      "- Amplified Ale Works Miramar Studio (brewpub) located in San Diego, California\n",
      "- Anacapa Brewing Co (brewpub) located in Ventura, California\n",
      "- Anaheim Brewery (micro) located in Anaheim, California\n",
      "- Anchor Brewing Co (large) located in San Francisco, California\n"
     ]
    }
   ],
   "execution_count": 4
  },
  {
   "cell_type": "markdown",
   "id": "d7533165",
   "metadata": {},
   "source": [
    "\n",
    "JSONPlaceholder offers a set of APIs for typical CRUD (Create, Read, Update, Delete) operations, making it an excellent resource for learning and testing HTTP requests.\n",
    "\n",
    "--\n",
    "\n",
    "### Task 2: Fetch User Data for AtliQ Client Project\n",
    "\n",
    "**Scenario:** As a quick favor, Loki shared an ad-hoc task with you. He needs help with a user profile component for an Atliq client application, using JSONPlaceholder to simulate fetching user data.\n",
    "\n",
    "**Objective:** Create a function `fetch_user_data` that uses JSONPlaceholder’s API to retrieve and format user details.\n",
    "\n",
    "**Steps:**\n",
    "\n",
    "1. Fetch user data from JSONPlaceholder.\n",
    "2. Format the data to include 'name', 'email', and 'address'.\n",
    "3. Return the data as a dictionary.\n",
    "\n",
    "**Expected Output:**\n",
    "\n",
    "```\n",
    "{\n",
    "    'name': 'Leanne Graham',\n",
    "    'email': 'Sincere@april.biz',\n",
    "    'address': 'Kulas Light, Gwenborough'\n",
    "}\n",
    "\n",
    "\n",
    "\n",
    "```"
   ]
  },
  {
   "cell_type": "code",
   "id": "bc84ea40",
   "metadata": {
    "ExecuteTime": {
     "end_time": "2025-03-19T01:46:04.218389Z",
     "start_time": "2025-03-19T01:46:04.180328Z"
    }
   },
   "source": [
    "# write your code here\n",
    "def fetch_user_data(user_id):\n",
    "    url = f\"https://jsonplaceholder.typicode.com/users/{user_id}\"\n",
    "    try:\n",
    "        response=requests.get(url)\n",
    "        response.raise_for_status()\n",
    "        data = response.json()\n",
    "        user_data = {\n",
    "            'name': data['name'],\n",
    "            'email': data['email'],\n",
    "            'address': f\"{data['address']['street']}, {data['address']['suite']}, {data['address']['city']}, {data['address']['zipcode']}\"\n",
    "        }\n",
    "        return {\n",
    "            'name': data['name'],\n",
    "            'email': data['email'],\n",
    "            'address': user_data['address']\n",
    "        }\n",
    "    except requests.exceptions.RequestException as e:\n",
    "        return f\"Error: {e}\"\n",
    "    except KeyError as e:\n",
    "        return f\"Error: {e}\"\n",
    "\n",
    "user_id = 1\n",
    "user_info = fetch_user_data(user_id)\n",
    "print(user_info)\n",
    "\n"
   ],
   "outputs": [
    {
     "name": "stdout",
     "output_type": "stream",
     "text": [
      "{'name': 'Leanne Graham', 'email': 'Sincere@april.biz', 'address': 'Kulas Light, Apt. 556, Gwenborough, 92998-3874'}\n"
     ]
    }
   ],
   "execution_count": 5
  },
  {
   "cell_type": "code",
   "id": "d665284c-cf7f-4480-8f38-83a72fc185b2",
   "metadata": {
    "ExecuteTime": {
     "end_time": "2025-03-19T01:46:04.254709Z",
     "start_time": "2025-03-19T01:46:04.252540Z"
    }
   },
   "source": [],
   "outputs": [],
   "execution_count": null
  }
 ],
 "metadata": {
  "kernelspec": {
   "display_name": "Python 3 (ipykernel)",
   "language": "python",
   "name": "python3"
  },
  "language_info": {
   "codemirror_mode": {
    "name": "ipython",
    "version": 3
   },
   "file_extension": ".py",
   "mimetype": "text/x-python",
   "name": "python",
   "nbconvert_exporter": "python",
   "pygments_lexer": "ipython3",
   "version": "3.10.11"
  }
 },
 "nbformat": 4,
 "nbformat_minor": 5
}
