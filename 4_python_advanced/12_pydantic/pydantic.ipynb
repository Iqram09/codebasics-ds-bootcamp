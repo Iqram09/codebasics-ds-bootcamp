{
 "cells": [
  {
   "cell_type": "code",
   "id": "initial_id",
   "metadata": {
    "collapsed": true,
    "ExecuteTime": {
     "end_time": "2025-04-08T19:58:00.633534Z",
     "start_time": "2025-04-08T19:58:00.628922Z"
    }
   },
   "source": [
    "from fontTools.misc.cython import returns\n",
    "\n",
    "\n",
    "class User:\n",
    "    def __init__(self, user_id, name, age):\n",
    "        self.user_id = user_id\n",
    "        self.name = name\n",
    "        self.age = age\n"
   ],
   "outputs": [],
   "execution_count": 1
  },
  {
   "metadata": {
    "ExecuteTime": {
     "end_time": "2025-04-08T19:58:52.172365Z",
     "start_time": "2025-04-08T19:58:52.165953Z"
    }
   },
   "cell_type": "code",
   "source": [
    "Iqram = User('Iqram', 'Iqram', 23)\n",
    "Iqram.name"
   ],
   "id": "6d7cb15a14a26d8e",
   "outputs": [
    {
     "data": {
      "text/plain": [
       "'Iqram'"
      ]
     },
     "execution_count": 2,
     "metadata": {},
     "output_type": "execute_result"
    }
   ],
   "execution_count": 2
  },
  {
   "metadata": {
    "ExecuteTime": {
     "end_time": "2025-04-08T20:19:01.311104Z",
     "start_time": "2025-04-08T20:19:01.304166Z"
    }
   },
   "cell_type": "code",
   "source": [
    "from pydantic import BaseModel,field_validator\n",
    "from typing import Optional\n",
    "import re\n",
    "\n",
    "class User(BaseModel):\n",
    "    id: int\n",
    "    name: str\n",
    "    age: int\n",
    "    address: Optional[str] = None\n",
    "\n",
    "    @field_validator('name')\n",
    "    @classmethod\n",
    "    def validate_name(cls, value):\n",
    "        if not re.match(r'^[a-zA-Z]+$',value):\n",
    "            raise ValueError('Name must be alphanumeric')\n",
    "        return value\n",
    "\n",
    "\n",
    "Iqram = User(id=3,name='Iqram',age=23)\n",
    "print(Iqram.name)\n",
    "print(Iqram.age)\n",
    "print(Iqram.id)\n",
    "print(Iqram.address)\n"
   ],
   "id": "4e29acf3356c25b",
   "outputs": [
    {
     "name": "stdout",
     "output_type": "stream",
     "text": [
      "Iqram\n",
      "23\n",
      "3\n",
      "None\n"
     ]
    }
   ],
   "execution_count": 18
  },
  {
   "metadata": {},
   "cell_type": "code",
   "outputs": [],
   "execution_count": null,
   "source": "",
   "id": "175d8c4254ec1d92"
  }
 ],
 "metadata": {
  "kernelspec": {
   "display_name": "Python 3",
   "language": "python",
   "name": "python3"
  },
  "language_info": {
   "codemirror_mode": {
    "name": "ipython",
    "version": 2
   },
   "file_extension": ".py",
   "mimetype": "text/x-python",
   "name": "python",
   "nbconvert_exporter": "python",
   "pygments_lexer": "ipython2",
   "version": "2.7.6"
  }
 },
 "nbformat": 4,
 "nbformat_minor": 5
}
